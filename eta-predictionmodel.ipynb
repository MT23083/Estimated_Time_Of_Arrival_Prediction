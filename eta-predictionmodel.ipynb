{
 "cells": [
  {
   "cell_type": "code",
   "execution_count": 1,
   "id": "f9c6f17a",
   "metadata": {
    "execution": {
     "iopub.execute_input": "2024-12-11T16:57:12.719017Z",
     "iopub.status.busy": "2024-12-11T16:57:12.718687Z",
     "iopub.status.idle": "2024-12-11T16:57:13.421900Z",
     "shell.execute_reply": "2024-12-11T16:57:13.421000Z"
    },
    "papermill": {
     "duration": 0.712784,
     "end_time": "2024-12-11T16:57:13.424055",
     "exception": false,
     "start_time": "2024-12-11T16:57:12.711271",
     "status": "completed"
    },
    "tags": []
   },
   "outputs": [],
   "source": [
    "import pandas as pd\n",
    "import numpy as np\n",
    "import os"
   ]
  },
  {
   "cell_type": "markdown",
   "id": "4be31c47",
   "metadata": {
    "papermill": {
     "duration": 0.005156,
     "end_time": "2024-12-11T16:57:13.436263",
     "exception": false,
     "start_time": "2024-12-11T16:57:13.431107",
     "status": "completed"
    },
    "tags": []
   },
   "source": [
    "-----------------------------------------\n",
    "LOADING THE DOORDASH ETA DATASET\n",
    "------------------------"
   ]
  },
  {
   "cell_type": "code",
   "execution_count": 2,
   "id": "3784ed09",
   "metadata": {
    "execution": {
     "iopub.execute_input": "2024-12-11T16:57:13.448189Z",
     "iopub.status.busy": "2024-12-11T16:57:13.447829Z",
     "iopub.status.idle": "2024-12-11T16:57:14.136556Z",
     "shell.execute_reply": "2024-12-11T16:57:14.135725Z"
    },
    "papermill": {
     "duration": 0.696986,
     "end_time": "2024-12-11T16:57:14.138552",
     "exception": false,
     "start_time": "2024-12-11T16:57:13.441566",
     "status": "completed"
    },
    "tags": []
   },
   "outputs": [
    {
     "name": "stdout",
     "output_type": "stream",
     "text": [
      "Path to dataset files: /kaggle/input/doordash-eta-prediction\n"
     ]
    }
   ],
   "source": [
    "import kagglehub\n",
    "\n",
    "# Download latest version\n",
    "path = kagglehub.dataset_download(\"dharun4772/doordash-eta-prediction\")\n",
    "\n",
    "print(\"Path to dataset files:\", path)"
   ]
  },
  {
   "cell_type": "code",
   "execution_count": 3,
   "id": "04bf7d74",
   "metadata": {
    "execution": {
     "iopub.execute_input": "2024-12-11T16:57:14.150759Z",
     "iopub.status.busy": "2024-12-11T16:57:14.150509Z",
     "iopub.status.idle": "2024-12-11T16:57:14.757480Z",
     "shell.execute_reply": "2024-12-11T16:57:14.756409Z"
    },
    "papermill": {
     "duration": 0.615057,
     "end_time": "2024-12-11T16:57:14.759342",
     "exception": false,
     "start_time": "2024-12-11T16:57:14.144285",
     "status": "completed"
    },
    "tags": []
   },
   "outputs": [
    {
     "name": "stdout",
     "output_type": "stream",
     "text": [
      "Loaded data from historical_data.csv\n"
     ]
    }
   ],
   "source": [
    "\n",
    "files = os.listdir(path)\n",
    "\n",
    "# 'files' contain ['historical_data.csv'] to load that csv\n",
    "\n",
    "for file in files:\n",
    "    if file.endswith(\".csv\"):\n",
    "        dataset_path = os.path.join(path, file)\n",
    "        df = pd.read_csv(dataset_path)\n",
    "        print(f\"Loaded data from {file}\")\n",
    "        break"
   ]
  },
  {
   "cell_type": "markdown",
   "id": "787f2bbd",
   "metadata": {
    "papermill": {
     "duration": 0.005382,
     "end_time": "2024-12-11T16:57:14.770544",
     "exception": false,
     "start_time": "2024-12-11T16:57:14.765162",
     "status": "completed"
    },
    "tags": []
   },
   "source": [
    "----------------------------------------------\n",
    "LOADED TIME SERIES DATAFRAME\n",
    "-------------------------------"
   ]
  },
  {
   "cell_type": "code",
   "execution_count": 4,
   "id": "3b5cbaa4",
   "metadata": {
    "execution": {
     "iopub.execute_input": "2024-12-11T16:57:14.783414Z",
     "iopub.status.busy": "2024-12-11T16:57:14.783066Z",
     "iopub.status.idle": "2024-12-11T16:57:14.812194Z",
     "shell.execute_reply": "2024-12-11T16:57:14.811429Z"
    },
    "papermill": {
     "duration": 0.037264,
     "end_time": "2024-12-11T16:57:14.813963",
     "exception": false,
     "start_time": "2024-12-11T16:57:14.776699",
     "status": "completed"
    },
    "tags": []
   },
   "outputs": [
    {
     "data": {
      "text/html": [
       "<div>\n",
       "<style scoped>\n",
       "    .dataframe tbody tr th:only-of-type {\n",
       "        vertical-align: middle;\n",
       "    }\n",
       "\n",
       "    .dataframe tbody tr th {\n",
       "        vertical-align: top;\n",
       "    }\n",
       "\n",
       "    .dataframe thead th {\n",
       "        text-align: right;\n",
       "    }\n",
       "</style>\n",
       "<table border=\"1\" class=\"dataframe\">\n",
       "  <thead>\n",
       "    <tr style=\"text-align: right;\">\n",
       "      <th></th>\n",
       "      <th>market_id</th>\n",
       "      <th>created_at</th>\n",
       "      <th>actual_delivery_time</th>\n",
       "      <th>store_id</th>\n",
       "      <th>store_primary_category</th>\n",
       "      <th>order_protocol</th>\n",
       "      <th>total_items</th>\n",
       "      <th>subtotal</th>\n",
       "      <th>num_distinct_items</th>\n",
       "      <th>min_item_price</th>\n",
       "      <th>max_item_price</th>\n",
       "      <th>total_onshift_dashers</th>\n",
       "      <th>total_busy_dashers</th>\n",
       "      <th>total_outstanding_orders</th>\n",
       "      <th>estimated_order_place_duration</th>\n",
       "      <th>estimated_store_to_consumer_driving_duration</th>\n",
       "    </tr>\n",
       "  </thead>\n",
       "  <tbody>\n",
       "    <tr>\n",
       "      <th>0</th>\n",
       "      <td>1.0</td>\n",
       "      <td>2015-02-06 22:24:17</td>\n",
       "      <td>2015-02-06 23:27:16</td>\n",
       "      <td>1845</td>\n",
       "      <td>american</td>\n",
       "      <td>1.0</td>\n",
       "      <td>4</td>\n",
       "      <td>3441</td>\n",
       "      <td>4</td>\n",
       "      <td>557</td>\n",
       "      <td>1239</td>\n",
       "      <td>33.0</td>\n",
       "      <td>14.0</td>\n",
       "      <td>21.0</td>\n",
       "      <td>446</td>\n",
       "      <td>861.0</td>\n",
       "    </tr>\n",
       "    <tr>\n",
       "      <th>1</th>\n",
       "      <td>2.0</td>\n",
       "      <td>2015-02-10 21:49:25</td>\n",
       "      <td>2015-02-10 22:56:29</td>\n",
       "      <td>5477</td>\n",
       "      <td>mexican</td>\n",
       "      <td>2.0</td>\n",
       "      <td>1</td>\n",
       "      <td>1900</td>\n",
       "      <td>1</td>\n",
       "      <td>1400</td>\n",
       "      <td>1400</td>\n",
       "      <td>1.0</td>\n",
       "      <td>2.0</td>\n",
       "      <td>2.0</td>\n",
       "      <td>446</td>\n",
       "      <td>690.0</td>\n",
       "    </tr>\n",
       "    <tr>\n",
       "      <th>2</th>\n",
       "      <td>3.0</td>\n",
       "      <td>2015-01-22 20:39:28</td>\n",
       "      <td>2015-01-22 21:09:09</td>\n",
       "      <td>5477</td>\n",
       "      <td>NaN</td>\n",
       "      <td>1.0</td>\n",
       "      <td>1</td>\n",
       "      <td>1900</td>\n",
       "      <td>1</td>\n",
       "      <td>1900</td>\n",
       "      <td>1900</td>\n",
       "      <td>1.0</td>\n",
       "      <td>0.0</td>\n",
       "      <td>0.0</td>\n",
       "      <td>446</td>\n",
       "      <td>690.0</td>\n",
       "    </tr>\n",
       "    <tr>\n",
       "      <th>3</th>\n",
       "      <td>3.0</td>\n",
       "      <td>2015-02-03 21:21:45</td>\n",
       "      <td>2015-02-03 22:13:00</td>\n",
       "      <td>5477</td>\n",
       "      <td>NaN</td>\n",
       "      <td>1.0</td>\n",
       "      <td>6</td>\n",
       "      <td>6900</td>\n",
       "      <td>5</td>\n",
       "      <td>600</td>\n",
       "      <td>1800</td>\n",
       "      <td>1.0</td>\n",
       "      <td>1.0</td>\n",
       "      <td>2.0</td>\n",
       "      <td>446</td>\n",
       "      <td>289.0</td>\n",
       "    </tr>\n",
       "    <tr>\n",
       "      <th>4</th>\n",
       "      <td>3.0</td>\n",
       "      <td>2015-02-15 02:40:36</td>\n",
       "      <td>2015-02-15 03:20:26</td>\n",
       "      <td>5477</td>\n",
       "      <td>NaN</td>\n",
       "      <td>1.0</td>\n",
       "      <td>3</td>\n",
       "      <td>3900</td>\n",
       "      <td>3</td>\n",
       "      <td>1100</td>\n",
       "      <td>1600</td>\n",
       "      <td>6.0</td>\n",
       "      <td>6.0</td>\n",
       "      <td>9.0</td>\n",
       "      <td>446</td>\n",
       "      <td>650.0</td>\n",
       "    </tr>\n",
       "    <tr>\n",
       "      <th>...</th>\n",
       "      <td>...</td>\n",
       "      <td>...</td>\n",
       "      <td>...</td>\n",
       "      <td>...</td>\n",
       "      <td>...</td>\n",
       "      <td>...</td>\n",
       "      <td>...</td>\n",
       "      <td>...</td>\n",
       "      <td>...</td>\n",
       "      <td>...</td>\n",
       "      <td>...</td>\n",
       "      <td>...</td>\n",
       "      <td>...</td>\n",
       "      <td>...</td>\n",
       "      <td>...</td>\n",
       "      <td>...</td>\n",
       "    </tr>\n",
       "    <tr>\n",
       "      <th>197423</th>\n",
       "      <td>1.0</td>\n",
       "      <td>2015-02-17 00:19:41</td>\n",
       "      <td>2015-02-17 01:24:48</td>\n",
       "      <td>2956</td>\n",
       "      <td>fast</td>\n",
       "      <td>4.0</td>\n",
       "      <td>3</td>\n",
       "      <td>1389</td>\n",
       "      <td>3</td>\n",
       "      <td>345</td>\n",
       "      <td>649</td>\n",
       "      <td>17.0</td>\n",
       "      <td>17.0</td>\n",
       "      <td>23.0</td>\n",
       "      <td>251</td>\n",
       "      <td>331.0</td>\n",
       "    </tr>\n",
       "    <tr>\n",
       "      <th>197424</th>\n",
       "      <td>1.0</td>\n",
       "      <td>2015-02-13 00:01:59</td>\n",
       "      <td>2015-02-13 00:58:22</td>\n",
       "      <td>2956</td>\n",
       "      <td>fast</td>\n",
       "      <td>4.0</td>\n",
       "      <td>6</td>\n",
       "      <td>3010</td>\n",
       "      <td>4</td>\n",
       "      <td>405</td>\n",
       "      <td>825</td>\n",
       "      <td>12.0</td>\n",
       "      <td>11.0</td>\n",
       "      <td>14.0</td>\n",
       "      <td>251</td>\n",
       "      <td>915.0</td>\n",
       "    </tr>\n",
       "    <tr>\n",
       "      <th>197425</th>\n",
       "      <td>1.0</td>\n",
       "      <td>2015-01-24 04:46:08</td>\n",
       "      <td>2015-01-24 05:36:16</td>\n",
       "      <td>2956</td>\n",
       "      <td>fast</td>\n",
       "      <td>4.0</td>\n",
       "      <td>5</td>\n",
       "      <td>1836</td>\n",
       "      <td>3</td>\n",
       "      <td>300</td>\n",
       "      <td>399</td>\n",
       "      <td>39.0</td>\n",
       "      <td>41.0</td>\n",
       "      <td>40.0</td>\n",
       "      <td>251</td>\n",
       "      <td>795.0</td>\n",
       "    </tr>\n",
       "    <tr>\n",
       "      <th>197426</th>\n",
       "      <td>1.0</td>\n",
       "      <td>2015-02-01 18:18:15</td>\n",
       "      <td>2015-02-01 19:23:22</td>\n",
       "      <td>3630</td>\n",
       "      <td>sandwich</td>\n",
       "      <td>1.0</td>\n",
       "      <td>1</td>\n",
       "      <td>1175</td>\n",
       "      <td>1</td>\n",
       "      <td>535</td>\n",
       "      <td>535</td>\n",
       "      <td>7.0</td>\n",
       "      <td>7.0</td>\n",
       "      <td>12.0</td>\n",
       "      <td>446</td>\n",
       "      <td>384.0</td>\n",
       "    </tr>\n",
       "    <tr>\n",
       "      <th>197427</th>\n",
       "      <td>1.0</td>\n",
       "      <td>2015-02-08 19:24:33</td>\n",
       "      <td>2015-02-08 20:01:41</td>\n",
       "      <td>3630</td>\n",
       "      <td>sandwich</td>\n",
       "      <td>1.0</td>\n",
       "      <td>4</td>\n",
       "      <td>2605</td>\n",
       "      <td>4</td>\n",
       "      <td>425</td>\n",
       "      <td>750</td>\n",
       "      <td>20.0</td>\n",
       "      <td>20.0</td>\n",
       "      <td>23.0</td>\n",
       "      <td>446</td>\n",
       "      <td>134.0</td>\n",
       "    </tr>\n",
       "  </tbody>\n",
       "</table>\n",
       "<p>197428 rows × 16 columns</p>\n",
       "</div>"
      ],
      "text/plain": [
       "        market_id           created_at actual_delivery_time  store_id  \\\n",
       "0             1.0  2015-02-06 22:24:17  2015-02-06 23:27:16      1845   \n",
       "1             2.0  2015-02-10 21:49:25  2015-02-10 22:56:29      5477   \n",
       "2             3.0  2015-01-22 20:39:28  2015-01-22 21:09:09      5477   \n",
       "3             3.0  2015-02-03 21:21:45  2015-02-03 22:13:00      5477   \n",
       "4             3.0  2015-02-15 02:40:36  2015-02-15 03:20:26      5477   \n",
       "...           ...                  ...                  ...       ...   \n",
       "197423        1.0  2015-02-17 00:19:41  2015-02-17 01:24:48      2956   \n",
       "197424        1.0  2015-02-13 00:01:59  2015-02-13 00:58:22      2956   \n",
       "197425        1.0  2015-01-24 04:46:08  2015-01-24 05:36:16      2956   \n",
       "197426        1.0  2015-02-01 18:18:15  2015-02-01 19:23:22      3630   \n",
       "197427        1.0  2015-02-08 19:24:33  2015-02-08 20:01:41      3630   \n",
       "\n",
       "       store_primary_category  order_protocol  total_items  subtotal  \\\n",
       "0                    american             1.0            4      3441   \n",
       "1                     mexican             2.0            1      1900   \n",
       "2                         NaN             1.0            1      1900   \n",
       "3                         NaN             1.0            6      6900   \n",
       "4                         NaN             1.0            3      3900   \n",
       "...                       ...             ...          ...       ...   \n",
       "197423                   fast             4.0            3      1389   \n",
       "197424                   fast             4.0            6      3010   \n",
       "197425                   fast             4.0            5      1836   \n",
       "197426               sandwich             1.0            1      1175   \n",
       "197427               sandwich             1.0            4      2605   \n",
       "\n",
       "        num_distinct_items  min_item_price  max_item_price  \\\n",
       "0                        4             557            1239   \n",
       "1                        1            1400            1400   \n",
       "2                        1            1900            1900   \n",
       "3                        5             600            1800   \n",
       "4                        3            1100            1600   \n",
       "...                    ...             ...             ...   \n",
       "197423                   3             345             649   \n",
       "197424                   4             405             825   \n",
       "197425                   3             300             399   \n",
       "197426                   1             535             535   \n",
       "197427                   4             425             750   \n",
       "\n",
       "        total_onshift_dashers  total_busy_dashers  total_outstanding_orders  \\\n",
       "0                        33.0                14.0                      21.0   \n",
       "1                         1.0                 2.0                       2.0   \n",
       "2                         1.0                 0.0                       0.0   \n",
       "3                         1.0                 1.0                       2.0   \n",
       "4                         6.0                 6.0                       9.0   \n",
       "...                       ...                 ...                       ...   \n",
       "197423                   17.0                17.0                      23.0   \n",
       "197424                   12.0                11.0                      14.0   \n",
       "197425                   39.0                41.0                      40.0   \n",
       "197426                    7.0                 7.0                      12.0   \n",
       "197427                   20.0                20.0                      23.0   \n",
       "\n",
       "        estimated_order_place_duration  \\\n",
       "0                                  446   \n",
       "1                                  446   \n",
       "2                                  446   \n",
       "3                                  446   \n",
       "4                                  446   \n",
       "...                                ...   \n",
       "197423                             251   \n",
       "197424                             251   \n",
       "197425                             251   \n",
       "197426                             446   \n",
       "197427                             446   \n",
       "\n",
       "        estimated_store_to_consumer_driving_duration  \n",
       "0                                              861.0  \n",
       "1                                              690.0  \n",
       "2                                              690.0  \n",
       "3                                              289.0  \n",
       "4                                              650.0  \n",
       "...                                              ...  \n",
       "197423                                         331.0  \n",
       "197424                                         915.0  \n",
       "197425                                         795.0  \n",
       "197426                                         384.0  \n",
       "197427                                         134.0  \n",
       "\n",
       "[197428 rows x 16 columns]"
      ]
     },
     "execution_count": 4,
     "metadata": {},
     "output_type": "execute_result"
    }
   ],
   "source": [
    "df"
   ]
  },
  {
   "cell_type": "markdown",
   "id": "aecabf6a",
   "metadata": {
    "papermill": {
     "duration": 0.006012,
     "end_time": "2024-12-11T16:57:14.826132",
     "exception": false,
     "start_time": "2024-12-11T16:57:14.820120",
     "status": "completed"
    },
    "tags": []
   },
   "source": [
    "---------------------------------------------------------\n",
    "Data Processing (Handling Null Values and Removing Outliers) & Feature Engineering\n",
    "-----------------------------------------"
   ]
  },
  {
   "cell_type": "markdown",
   "id": "968baeda",
   "metadata": {
    "papermill": {
     "duration": 0.005453,
     "end_time": "2024-12-11T16:57:14.837824",
     "exception": false,
     "start_time": "2024-12-11T16:57:14.832371",
     "status": "completed"
    },
    "tags": []
   },
   "source": [
    "----------------------------------\n",
    "Checking for Null Values in Various Columns of Dataframe 'df'"
   ]
  },
  {
   "cell_type": "code",
   "execution_count": 5,
   "id": "ba6e6624",
   "metadata": {
    "execution": {
     "iopub.execute_input": "2024-12-11T16:57:14.850601Z",
     "iopub.status.busy": "2024-12-11T16:57:14.850291Z",
     "iopub.status.idle": "2024-12-11T16:57:14.886746Z",
     "shell.execute_reply": "2024-12-11T16:57:14.885961Z"
    },
    "papermill": {
     "duration": 0.044651,
     "end_time": "2024-12-11T16:57:14.888265",
     "exception": false,
     "start_time": "2024-12-11T16:57:14.843614",
     "status": "completed"
    },
    "tags": []
   },
   "outputs": [
    {
     "data": {
      "text/plain": [
       "market_id                                         987\n",
       "created_at                                          0\n",
       "actual_delivery_time                                7\n",
       "store_id                                            0\n",
       "store_primary_category                           4760\n",
       "order_protocol                                    995\n",
       "total_items                                         0\n",
       "subtotal                                            0\n",
       "num_distinct_items                                  0\n",
       "min_item_price                                      0\n",
       "max_item_price                                      0\n",
       "total_onshift_dashers                           16262\n",
       "total_busy_dashers                              16262\n",
       "total_outstanding_orders                        16262\n",
       "estimated_order_place_duration                      0\n",
       "estimated_store_to_consumer_driving_duration      526\n",
       "dtype: int64"
      ]
     },
     "execution_count": 5,
     "metadata": {},
     "output_type": "execute_result"
    }
   ],
   "source": [
    "df.isna().sum()"
   ]
  },
  {
   "cell_type": "code",
   "execution_count": 6,
   "id": "a10d0018",
   "metadata": {
    "execution": {
     "iopub.execute_input": "2024-12-11T16:57:14.901598Z",
     "iopub.status.busy": "2024-12-11T16:57:14.901044Z",
     "iopub.status.idle": "2024-12-11T16:57:14.931775Z",
     "shell.execute_reply": "2024-12-11T16:57:14.931098Z"
    },
    "papermill": {
     "duration": 0.039204,
     "end_time": "2024-12-11T16:57:14.933593",
     "exception": false,
     "start_time": "2024-12-11T16:57:14.894389",
     "status": "completed"
    },
    "tags": []
   },
   "outputs": [],
   "source": [
    "# Market_ID is checked for null values and these rows are removed\n",
    "\n",
    "critical_columns = [\n",
    "    'market_id',\n",
    "    'actual_delivery_time'\n",
    "]\n",
    "\n",
    "# Removing rows with null values in the above mentioned attributes or columns\n",
    "df = df.dropna(subset=critical_columns)"
   ]
  },
  {
   "cell_type": "code",
   "execution_count": 7,
   "id": "091df684",
   "metadata": {
    "execution": {
     "iopub.execute_input": "2024-12-11T16:57:14.947063Z",
     "iopub.status.busy": "2024-12-11T16:57:14.946827Z",
     "iopub.status.idle": "2024-12-11T16:57:14.978703Z",
     "shell.execute_reply": "2024-12-11T16:57:14.977900Z"
    },
    "papermill": {
     "duration": 0.040348,
     "end_time": "2024-12-11T16:57:14.980242",
     "exception": false,
     "start_time": "2024-12-11T16:57:14.939894",
     "status": "completed"
    },
    "tags": []
   },
   "outputs": [
    {
     "data": {
      "text/plain": [
       "market_id                                           0\n",
       "created_at                                          0\n",
       "actual_delivery_time                                0\n",
       "store_id                                            0\n",
       "store_primary_category                           4268\n",
       "order_protocol                                    508\n",
       "total_items                                         0\n",
       "subtotal                                            0\n",
       "num_distinct_items                                  0\n",
       "min_item_price                                      0\n",
       "max_item_price                                      0\n",
       "total_onshift_dashers                           16194\n",
       "total_busy_dashers                              16194\n",
       "total_outstanding_orders                        16194\n",
       "estimated_order_place_duration                      0\n",
       "estimated_store_to_consumer_driving_duration      525\n",
       "dtype: int64"
      ]
     },
     "execution_count": 7,
     "metadata": {},
     "output_type": "execute_result"
    }
   ],
   "source": [
    "df.isna().sum()"
   ]
  },
  {
   "cell_type": "code",
   "execution_count": 8,
   "id": "727d41e7",
   "metadata": {
    "execution": {
     "iopub.execute_input": "2024-12-11T16:57:14.993739Z",
     "iopub.status.busy": "2024-12-11T16:57:14.993221Z",
     "iopub.status.idle": "2024-12-11T16:57:15.021494Z",
     "shell.execute_reply": "2024-12-11T16:57:15.020795Z"
    },
    "papermill": {
     "duration": 0.037296,
     "end_time": "2024-12-11T16:57:15.023747",
     "exception": false,
     "start_time": "2024-12-11T16:57:14.986451",
     "status": "completed"
    },
    "tags": []
   },
   "outputs": [
    {
     "name": "stderr",
     "output_type": "stream",
     "text": [
      "/tmp/ipykernel_23/1556429825.py:4: FutureWarning: A value is trying to be set on a copy of a DataFrame or Series through chained assignment using an inplace method.\n",
      "The behavior will change in pandas 3.0. This inplace method will never work because the intermediate object on which we are setting values always behaves as a copy.\n",
      "\n",
      "For example, when doing 'df[col].method(value, inplace=True)', try using 'df.method({col: value}, inplace=True)' or df[col] = df[col].method(value) instead, to perform the operation inplace on the original object.\n",
      "\n",
      "\n",
      "  df['store_primary_category'].fillna('Uncategorized', inplace=True)\n",
      "/tmp/ipykernel_23/1556429825.py:4: SettingWithCopyWarning: \n",
      "A value is trying to be set on a copy of a slice from a DataFrame\n",
      "\n",
      "See the caveats in the documentation: https://pandas.pydata.org/pandas-docs/stable/user_guide/indexing.html#returning-a-view-versus-a-copy\n",
      "  df['store_primary_category'].fillna('Uncategorized', inplace=True)\n",
      "/tmp/ipykernel_23/1556429825.py:7: FutureWarning: A value is trying to be set on a copy of a DataFrame or Series through chained assignment using an inplace method.\n",
      "The behavior will change in pandas 3.0. This inplace method will never work because the intermediate object on which we are setting values always behaves as a copy.\n",
      "\n",
      "For example, when doing 'df[col].method(value, inplace=True)', try using 'df.method({col: value}, inplace=True)' or df[col] = df[col].method(value) instead, to perform the operation inplace on the original object.\n",
      "\n",
      "\n",
      "  df['order_protocol'].fillna(df['order_protocol'].mode()[0], inplace=True)\n",
      "/tmp/ipykernel_23/1556429825.py:7: SettingWithCopyWarning: \n",
      "A value is trying to be set on a copy of a slice from a DataFrame\n",
      "\n",
      "See the caveats in the documentation: https://pandas.pydata.org/pandas-docs/stable/user_guide/indexing.html#returning-a-view-versus-a-copy\n",
      "  df['order_protocol'].fillna(df['order_protocol'].mode()[0], inplace=True)\n",
      "/tmp/ipykernel_23/1556429825.py:11: FutureWarning: A value is trying to be set on a copy of a DataFrame or Series through chained assignment using an inplace method.\n",
      "The behavior will change in pandas 3.0. This inplace method will never work because the intermediate object on which we are setting values always behaves as a copy.\n",
      "\n",
      "For example, when doing 'df[col].method(value, inplace=True)', try using 'df.method({col: value}, inplace=True)' or df[col] = df[col].method(value) instead, to perform the operation inplace on the original object.\n",
      "\n",
      "\n",
      "  df['estimated_store_to_consumer_driving_duration'].fillna(\n",
      "/tmp/ipykernel_23/1556429825.py:11: SettingWithCopyWarning: \n",
      "A value is trying to be set on a copy of a slice from a DataFrame\n",
      "\n",
      "See the caveats in the documentation: https://pandas.pydata.org/pandas-docs/stable/user_guide/indexing.html#returning-a-view-versus-a-copy\n",
      "  df['estimated_store_to_consumer_driving_duration'].fillna(\n"
     ]
    }
   ],
   "source": [
    "\n",
    "def handle_null_values(df):\n",
    "        \n",
    "    # Store Primary Category is filled with a new category and filled as 'Uncategorized'\n",
    "    df['store_primary_category'].fillna('Uncategorized', inplace=True)\n",
    "    \n",
    "    # Order Protocol doesn't have too many null values so I just filled with mostly adopted value (mode value)\n",
    "    df['order_protocol'].fillna(df['order_protocol'].mode()[0], inplace=True)\n",
    "    \n",
    "    # Estimated Driving Duration is filled using the Median value throught our dataset and there are only 525 null values, so it will not\n",
    "    # hamper the performance of the model\n",
    "    df['estimated_store_to_consumer_driving_duration'].fillna(\n",
    "        df['estimated_store_to_consumer_driving_duration'].median(), \n",
    "        inplace=True\n",
    "    )\n",
    "    \n",
    "    return df\n",
    "\n",
    "# Apply the function\n",
    "df = handle_null_values(df)\n"
   ]
  },
  {
   "cell_type": "code",
   "execution_count": 9,
   "id": "8bdda0fe",
   "metadata": {
    "execution": {
     "iopub.execute_input": "2024-12-11T16:57:15.037679Z",
     "iopub.status.busy": "2024-12-11T16:57:15.037435Z",
     "iopub.status.idle": "2024-12-11T16:57:15.068944Z",
     "shell.execute_reply": "2024-12-11T16:57:15.068243Z"
    },
    "papermill": {
     "duration": 0.040119,
     "end_time": "2024-12-11T16:57:15.070491",
     "exception": false,
     "start_time": "2024-12-11T16:57:15.030372",
     "status": "completed"
    },
    "tags": []
   },
   "outputs": [
    {
     "data": {
      "text/plain": [
       "market_id                                           0\n",
       "created_at                                          0\n",
       "actual_delivery_time                                0\n",
       "store_id                                            0\n",
       "store_primary_category                              0\n",
       "order_protocol                                      0\n",
       "total_items                                         0\n",
       "subtotal                                            0\n",
       "num_distinct_items                                  0\n",
       "min_item_price                                      0\n",
       "max_item_price                                      0\n",
       "total_onshift_dashers                           16194\n",
       "total_busy_dashers                              16194\n",
       "total_outstanding_orders                        16194\n",
       "estimated_order_place_duration                      0\n",
       "estimated_store_to_consumer_driving_duration        0\n",
       "dtype: int64"
      ]
     },
     "execution_count": 9,
     "metadata": {},
     "output_type": "execute_result"
    }
   ],
   "source": [
    "df.isna().sum()"
   ]
  },
  {
   "cell_type": "markdown",
   "id": "b933a682",
   "metadata": {
    "papermill": {
     "duration": 0.005855,
     "end_time": "2024-12-11T16:57:15.082492",
     "exception": false,
     "start_time": "2024-12-11T16:57:15.076637",
     "status": "completed"
    },
    "tags": []
   },
   "source": [
    "----------------------------------------------------\n",
    "Price Range obtained instead of Min or Max prices"
   ]
  },
  {
   "cell_type": "code",
   "execution_count": 10,
   "id": "7d7689aa",
   "metadata": {
    "execution": {
     "iopub.execute_input": "2024-12-11T16:57:15.095299Z",
     "iopub.status.busy": "2024-12-11T16:57:15.095074Z",
     "iopub.status.idle": "2024-12-11T16:57:15.113570Z",
     "shell.execute_reply": "2024-12-11T16:57:15.112746Z"
    },
    "papermill": {
     "duration": 0.026966,
     "end_time": "2024-12-11T16:57:15.115397",
     "exception": false,
     "start_time": "2024-12-11T16:57:15.088431",
     "status": "completed"
    },
    "scrolled": true,
    "tags": []
   },
   "outputs": [
    {
     "name": "stderr",
     "output_type": "stream",
     "text": [
      "/tmp/ipykernel_23/3602696812.py:1: SettingWithCopyWarning: \n",
      "A value is trying to be set on a copy of a slice from a DataFrame.\n",
      "Try using .loc[row_indexer,col_indexer] = value instead\n",
      "\n",
      "See the caveats in the documentation: https://pandas.pydata.org/pandas-docs/stable/user_guide/indexing.html#returning-a-view-versus-a-copy\n",
      "  df['price_range'] = df['max_item_price'] - df['min_item_price']\n"
     ]
    },
    {
     "data": {
      "text/html": [
       "<div>\n",
       "<style scoped>\n",
       "    .dataframe tbody tr th:only-of-type {\n",
       "        vertical-align: middle;\n",
       "    }\n",
       "\n",
       "    .dataframe tbody tr th {\n",
       "        vertical-align: top;\n",
       "    }\n",
       "\n",
       "    .dataframe thead th {\n",
       "        text-align: right;\n",
       "    }\n",
       "</style>\n",
       "<table border=\"1\" class=\"dataframe\">\n",
       "  <thead>\n",
       "    <tr style=\"text-align: right;\">\n",
       "      <th></th>\n",
       "      <th>market_id</th>\n",
       "      <th>created_at</th>\n",
       "      <th>actual_delivery_time</th>\n",
       "      <th>store_id</th>\n",
       "      <th>store_primary_category</th>\n",
       "      <th>order_protocol</th>\n",
       "      <th>total_items</th>\n",
       "      <th>subtotal</th>\n",
       "      <th>num_distinct_items</th>\n",
       "      <th>min_item_price</th>\n",
       "      <th>max_item_price</th>\n",
       "      <th>total_onshift_dashers</th>\n",
       "      <th>total_busy_dashers</th>\n",
       "      <th>total_outstanding_orders</th>\n",
       "      <th>estimated_order_place_duration</th>\n",
       "      <th>estimated_store_to_consumer_driving_duration</th>\n",
       "      <th>price_range</th>\n",
       "    </tr>\n",
       "  </thead>\n",
       "  <tbody>\n",
       "    <tr>\n",
       "      <th>0</th>\n",
       "      <td>1.0</td>\n",
       "      <td>2015-02-06 22:24:17</td>\n",
       "      <td>2015-02-06 23:27:16</td>\n",
       "      <td>1845</td>\n",
       "      <td>american</td>\n",
       "      <td>1.0</td>\n",
       "      <td>4</td>\n",
       "      <td>3441</td>\n",
       "      <td>4</td>\n",
       "      <td>557</td>\n",
       "      <td>1239</td>\n",
       "      <td>33.0</td>\n",
       "      <td>14.0</td>\n",
       "      <td>21.0</td>\n",
       "      <td>446</td>\n",
       "      <td>861.0</td>\n",
       "      <td>682</td>\n",
       "    </tr>\n",
       "    <tr>\n",
       "      <th>1</th>\n",
       "      <td>2.0</td>\n",
       "      <td>2015-02-10 21:49:25</td>\n",
       "      <td>2015-02-10 22:56:29</td>\n",
       "      <td>5477</td>\n",
       "      <td>mexican</td>\n",
       "      <td>2.0</td>\n",
       "      <td>1</td>\n",
       "      <td>1900</td>\n",
       "      <td>1</td>\n",
       "      <td>1400</td>\n",
       "      <td>1400</td>\n",
       "      <td>1.0</td>\n",
       "      <td>2.0</td>\n",
       "      <td>2.0</td>\n",
       "      <td>446</td>\n",
       "      <td>690.0</td>\n",
       "      <td>0</td>\n",
       "    </tr>\n",
       "    <tr>\n",
       "      <th>2</th>\n",
       "      <td>3.0</td>\n",
       "      <td>2015-01-22 20:39:28</td>\n",
       "      <td>2015-01-22 21:09:09</td>\n",
       "      <td>5477</td>\n",
       "      <td>Uncategorized</td>\n",
       "      <td>1.0</td>\n",
       "      <td>1</td>\n",
       "      <td>1900</td>\n",
       "      <td>1</td>\n",
       "      <td>1900</td>\n",
       "      <td>1900</td>\n",
       "      <td>1.0</td>\n",
       "      <td>0.0</td>\n",
       "      <td>0.0</td>\n",
       "      <td>446</td>\n",
       "      <td>690.0</td>\n",
       "      <td>0</td>\n",
       "    </tr>\n",
       "    <tr>\n",
       "      <th>3</th>\n",
       "      <td>3.0</td>\n",
       "      <td>2015-02-03 21:21:45</td>\n",
       "      <td>2015-02-03 22:13:00</td>\n",
       "      <td>5477</td>\n",
       "      <td>Uncategorized</td>\n",
       "      <td>1.0</td>\n",
       "      <td>6</td>\n",
       "      <td>6900</td>\n",
       "      <td>5</td>\n",
       "      <td>600</td>\n",
       "      <td>1800</td>\n",
       "      <td>1.0</td>\n",
       "      <td>1.0</td>\n",
       "      <td>2.0</td>\n",
       "      <td>446</td>\n",
       "      <td>289.0</td>\n",
       "      <td>1200</td>\n",
       "    </tr>\n",
       "    <tr>\n",
       "      <th>4</th>\n",
       "      <td>3.0</td>\n",
       "      <td>2015-02-15 02:40:36</td>\n",
       "      <td>2015-02-15 03:20:26</td>\n",
       "      <td>5477</td>\n",
       "      <td>Uncategorized</td>\n",
       "      <td>1.0</td>\n",
       "      <td>3</td>\n",
       "      <td>3900</td>\n",
       "      <td>3</td>\n",
       "      <td>1100</td>\n",
       "      <td>1600</td>\n",
       "      <td>6.0</td>\n",
       "      <td>6.0</td>\n",
       "      <td>9.0</td>\n",
       "      <td>446</td>\n",
       "      <td>650.0</td>\n",
       "      <td>500</td>\n",
       "    </tr>\n",
       "    <tr>\n",
       "      <th>...</th>\n",
       "      <td>...</td>\n",
       "      <td>...</td>\n",
       "      <td>...</td>\n",
       "      <td>...</td>\n",
       "      <td>...</td>\n",
       "      <td>...</td>\n",
       "      <td>...</td>\n",
       "      <td>...</td>\n",
       "      <td>...</td>\n",
       "      <td>...</td>\n",
       "      <td>...</td>\n",
       "      <td>...</td>\n",
       "      <td>...</td>\n",
       "      <td>...</td>\n",
       "      <td>...</td>\n",
       "      <td>...</td>\n",
       "      <td>...</td>\n",
       "    </tr>\n",
       "    <tr>\n",
       "      <th>197423</th>\n",
       "      <td>1.0</td>\n",
       "      <td>2015-02-17 00:19:41</td>\n",
       "      <td>2015-02-17 01:24:48</td>\n",
       "      <td>2956</td>\n",
       "      <td>fast</td>\n",
       "      <td>4.0</td>\n",
       "      <td>3</td>\n",
       "      <td>1389</td>\n",
       "      <td>3</td>\n",
       "      <td>345</td>\n",
       "      <td>649</td>\n",
       "      <td>17.0</td>\n",
       "      <td>17.0</td>\n",
       "      <td>23.0</td>\n",
       "      <td>251</td>\n",
       "      <td>331.0</td>\n",
       "      <td>304</td>\n",
       "    </tr>\n",
       "    <tr>\n",
       "      <th>197424</th>\n",
       "      <td>1.0</td>\n",
       "      <td>2015-02-13 00:01:59</td>\n",
       "      <td>2015-02-13 00:58:22</td>\n",
       "      <td>2956</td>\n",
       "      <td>fast</td>\n",
       "      <td>4.0</td>\n",
       "      <td>6</td>\n",
       "      <td>3010</td>\n",
       "      <td>4</td>\n",
       "      <td>405</td>\n",
       "      <td>825</td>\n",
       "      <td>12.0</td>\n",
       "      <td>11.0</td>\n",
       "      <td>14.0</td>\n",
       "      <td>251</td>\n",
       "      <td>915.0</td>\n",
       "      <td>420</td>\n",
       "    </tr>\n",
       "    <tr>\n",
       "      <th>197425</th>\n",
       "      <td>1.0</td>\n",
       "      <td>2015-01-24 04:46:08</td>\n",
       "      <td>2015-01-24 05:36:16</td>\n",
       "      <td>2956</td>\n",
       "      <td>fast</td>\n",
       "      <td>4.0</td>\n",
       "      <td>5</td>\n",
       "      <td>1836</td>\n",
       "      <td>3</td>\n",
       "      <td>300</td>\n",
       "      <td>399</td>\n",
       "      <td>39.0</td>\n",
       "      <td>41.0</td>\n",
       "      <td>40.0</td>\n",
       "      <td>251</td>\n",
       "      <td>795.0</td>\n",
       "      <td>99</td>\n",
       "    </tr>\n",
       "    <tr>\n",
       "      <th>197426</th>\n",
       "      <td>1.0</td>\n",
       "      <td>2015-02-01 18:18:15</td>\n",
       "      <td>2015-02-01 19:23:22</td>\n",
       "      <td>3630</td>\n",
       "      <td>sandwich</td>\n",
       "      <td>1.0</td>\n",
       "      <td>1</td>\n",
       "      <td>1175</td>\n",
       "      <td>1</td>\n",
       "      <td>535</td>\n",
       "      <td>535</td>\n",
       "      <td>7.0</td>\n",
       "      <td>7.0</td>\n",
       "      <td>12.0</td>\n",
       "      <td>446</td>\n",
       "      <td>384.0</td>\n",
       "      <td>0</td>\n",
       "    </tr>\n",
       "    <tr>\n",
       "      <th>197427</th>\n",
       "      <td>1.0</td>\n",
       "      <td>2015-02-08 19:24:33</td>\n",
       "      <td>2015-02-08 20:01:41</td>\n",
       "      <td>3630</td>\n",
       "      <td>sandwich</td>\n",
       "      <td>1.0</td>\n",
       "      <td>4</td>\n",
       "      <td>2605</td>\n",
       "      <td>4</td>\n",
       "      <td>425</td>\n",
       "      <td>750</td>\n",
       "      <td>20.0</td>\n",
       "      <td>20.0</td>\n",
       "      <td>23.0</td>\n",
       "      <td>446</td>\n",
       "      <td>134.0</td>\n",
       "      <td>325</td>\n",
       "    </tr>\n",
       "  </tbody>\n",
       "</table>\n",
       "<p>196434 rows × 17 columns</p>\n",
       "</div>"
      ],
      "text/plain": [
       "        market_id           created_at actual_delivery_time  store_id  \\\n",
       "0             1.0  2015-02-06 22:24:17  2015-02-06 23:27:16      1845   \n",
       "1             2.0  2015-02-10 21:49:25  2015-02-10 22:56:29      5477   \n",
       "2             3.0  2015-01-22 20:39:28  2015-01-22 21:09:09      5477   \n",
       "3             3.0  2015-02-03 21:21:45  2015-02-03 22:13:00      5477   \n",
       "4             3.0  2015-02-15 02:40:36  2015-02-15 03:20:26      5477   \n",
       "...           ...                  ...                  ...       ...   \n",
       "197423        1.0  2015-02-17 00:19:41  2015-02-17 01:24:48      2956   \n",
       "197424        1.0  2015-02-13 00:01:59  2015-02-13 00:58:22      2956   \n",
       "197425        1.0  2015-01-24 04:46:08  2015-01-24 05:36:16      2956   \n",
       "197426        1.0  2015-02-01 18:18:15  2015-02-01 19:23:22      3630   \n",
       "197427        1.0  2015-02-08 19:24:33  2015-02-08 20:01:41      3630   \n",
       "\n",
       "       store_primary_category  order_protocol  total_items  subtotal  \\\n",
       "0                    american             1.0            4      3441   \n",
       "1                     mexican             2.0            1      1900   \n",
       "2               Uncategorized             1.0            1      1900   \n",
       "3               Uncategorized             1.0            6      6900   \n",
       "4               Uncategorized             1.0            3      3900   \n",
       "...                       ...             ...          ...       ...   \n",
       "197423                   fast             4.0            3      1389   \n",
       "197424                   fast             4.0            6      3010   \n",
       "197425                   fast             4.0            5      1836   \n",
       "197426               sandwich             1.0            1      1175   \n",
       "197427               sandwich             1.0            4      2605   \n",
       "\n",
       "        num_distinct_items  min_item_price  max_item_price  \\\n",
       "0                        4             557            1239   \n",
       "1                        1            1400            1400   \n",
       "2                        1            1900            1900   \n",
       "3                        5             600            1800   \n",
       "4                        3            1100            1600   \n",
       "...                    ...             ...             ...   \n",
       "197423                   3             345             649   \n",
       "197424                   4             405             825   \n",
       "197425                   3             300             399   \n",
       "197426                   1             535             535   \n",
       "197427                   4             425             750   \n",
       "\n",
       "        total_onshift_dashers  total_busy_dashers  total_outstanding_orders  \\\n",
       "0                        33.0                14.0                      21.0   \n",
       "1                         1.0                 2.0                       2.0   \n",
       "2                         1.0                 0.0                       0.0   \n",
       "3                         1.0                 1.0                       2.0   \n",
       "4                         6.0                 6.0                       9.0   \n",
       "...                       ...                 ...                       ...   \n",
       "197423                   17.0                17.0                      23.0   \n",
       "197424                   12.0                11.0                      14.0   \n",
       "197425                   39.0                41.0                      40.0   \n",
       "197426                    7.0                 7.0                      12.0   \n",
       "197427                   20.0                20.0                      23.0   \n",
       "\n",
       "        estimated_order_place_duration  \\\n",
       "0                                  446   \n",
       "1                                  446   \n",
       "2                                  446   \n",
       "3                                  446   \n",
       "4                                  446   \n",
       "...                                ...   \n",
       "197423                             251   \n",
       "197424                             251   \n",
       "197425                             251   \n",
       "197426                             446   \n",
       "197427                             446   \n",
       "\n",
       "        estimated_store_to_consumer_driving_duration  price_range  \n",
       "0                                              861.0          682  \n",
       "1                                              690.0            0  \n",
       "2                                              690.0            0  \n",
       "3                                              289.0         1200  \n",
       "4                                              650.0          500  \n",
       "...                                              ...          ...  \n",
       "197423                                         331.0          304  \n",
       "197424                                         915.0          420  \n",
       "197425                                         795.0           99  \n",
       "197426                                         384.0            0  \n",
       "197427                                         134.0          325  \n",
       "\n",
       "[196434 rows x 17 columns]"
      ]
     },
     "execution_count": 10,
     "metadata": {},
     "output_type": "execute_result"
    }
   ],
   "source": [
    "\n",
    "df['price_range'] = df['max_item_price'] - df['min_item_price']\n",
    "\n",
    "df"
   ]
  },
  {
   "cell_type": "code",
   "execution_count": 11,
   "id": "23dab922",
   "metadata": {
    "execution": {
     "iopub.execute_input": "2024-12-11T16:57:15.129622Z",
     "iopub.status.busy": "2024-12-11T16:57:15.129373Z",
     "iopub.status.idle": "2024-12-11T16:57:15.139307Z",
     "shell.execute_reply": "2024-12-11T16:57:15.138387Z"
    },
    "papermill": {
     "duration": 0.019207,
     "end_time": "2024-12-11T16:57:15.141080",
     "exception": false,
     "start_time": "2024-12-11T16:57:15.121873",
     "status": "completed"
    },
    "tags": []
   },
   "outputs": [
    {
     "name": "stderr",
     "output_type": "stream",
     "text": [
      "/tmp/ipykernel_23/646705526.py:3: FutureWarning: A value is trying to be set on a copy of a DataFrame or Series through chained assignment using an inplace method.\n",
      "The behavior will change in pandas 3.0. This inplace method will never work because the intermediate object on which we are setting values always behaves as a copy.\n",
      "\n",
      "For example, when doing 'df[col].method(value, inplace=True)', try using 'df.method({col: value}, inplace=True)' or df[col] = df[col].method(value) instead, to perform the operation inplace on the original object.\n",
      "\n",
      "\n",
      "  df['total_onshift_dashers'].fillna(df['total_onshift_dashers'].mean(), inplace=True)\n",
      "/tmp/ipykernel_23/646705526.py:3: SettingWithCopyWarning: \n",
      "A value is trying to be set on a copy of a slice from a DataFrame\n",
      "\n",
      "See the caveats in the documentation: https://pandas.pydata.org/pandas-docs/stable/user_guide/indexing.html#returning-a-view-versus-a-copy\n",
      "  df['total_onshift_dashers'].fillna(df['total_onshift_dashers'].mean(), inplace=True)\n",
      "/tmp/ipykernel_23/646705526.py:4: FutureWarning: A value is trying to be set on a copy of a DataFrame or Series through chained assignment using an inplace method.\n",
      "The behavior will change in pandas 3.0. This inplace method will never work because the intermediate object on which we are setting values always behaves as a copy.\n",
      "\n",
      "For example, when doing 'df[col].method(value, inplace=True)', try using 'df.method({col: value}, inplace=True)' or df[col] = df[col].method(value) instead, to perform the operation inplace on the original object.\n",
      "\n",
      "\n",
      "  df['total_busy_dashers'].fillna(df['total_busy_dashers'].mean(), inplace=True)\n",
      "/tmp/ipykernel_23/646705526.py:4: SettingWithCopyWarning: \n",
      "A value is trying to be set on a copy of a slice from a DataFrame\n",
      "\n",
      "See the caveats in the documentation: https://pandas.pydata.org/pandas-docs/stable/user_guide/indexing.html#returning-a-view-versus-a-copy\n",
      "  df['total_busy_dashers'].fillna(df['total_busy_dashers'].mean(), inplace=True)\n",
      "/tmp/ipykernel_23/646705526.py:5: FutureWarning: A value is trying to be set on a copy of a DataFrame or Series through chained assignment using an inplace method.\n",
      "The behavior will change in pandas 3.0. This inplace method will never work because the intermediate object on which we are setting values always behaves as a copy.\n",
      "\n",
      "For example, when doing 'df[col].method(value, inplace=True)', try using 'df.method({col: value}, inplace=True)' or df[col] = df[col].method(value) instead, to perform the operation inplace on the original object.\n",
      "\n",
      "\n",
      "  df['total_outstanding_orders'].fillna(df['total_outstanding_orders'].mean(), inplace=True)\n",
      "/tmp/ipykernel_23/646705526.py:5: SettingWithCopyWarning: \n",
      "A value is trying to be set on a copy of a slice from a DataFrame\n",
      "\n",
      "See the caveats in the documentation: https://pandas.pydata.org/pandas-docs/stable/user_guide/indexing.html#returning-a-view-versus-a-copy\n",
      "  df['total_outstanding_orders'].fillna(df['total_outstanding_orders'].mean(), inplace=True)\n"
     ]
    }
   ],
   "source": [
    "# Mean value is used to fill the null values in these three attributes or columns\n",
    "\n",
    "df['total_onshift_dashers'].fillna(df['total_onshift_dashers'].mean(), inplace=True)\n",
    "df['total_busy_dashers'].fillna(df['total_busy_dashers'].mean(), inplace=True)\n",
    "df['total_outstanding_orders'].fillna(df['total_outstanding_orders'].mean(), inplace=True)\n"
   ]
  },
  {
   "cell_type": "markdown",
   "id": "3d211a32",
   "metadata": {
    "papermill": {
     "duration": 0.006349,
     "end_time": "2024-12-11T16:57:15.154079",
     "exception": false,
     "start_time": "2024-12-11T16:57:15.147730",
     "status": "completed"
    },
    "tags": []
   },
   "source": [
    "-------------------------------------------------------\n",
    "Preprocessing the date, time values present in 'created_at' and 'actual_delivery_time' attributes"
   ]
  },
  {
   "cell_type": "code",
   "execution_count": 12,
   "id": "70263401",
   "metadata": {
    "execution": {
     "iopub.execute_input": "2024-12-11T16:57:15.168577Z",
     "iopub.status.busy": "2024-12-11T16:57:15.168051Z",
     "iopub.status.idle": "2024-12-11T16:57:16.434739Z",
     "shell.execute_reply": "2024-12-11T16:57:16.434012Z"
    },
    "papermill": {
     "duration": 1.276126,
     "end_time": "2024-12-11T16:57:16.436788",
     "exception": false,
     "start_time": "2024-12-11T16:57:15.160662",
     "status": "completed"
    },
    "tags": []
   },
   "outputs": [],
   "source": [
    "from sklearn.preprocessing import StandardScaler, LabelEncoder\n",
    "\n",
    "data = df.copy()\n",
    "\n",
    "# Convert timestamps\n",
    "data['created_at'] = pd.to_datetime(data['created_at'])\n",
    "data['actual_delivery_time'] = pd.to_datetime(data['actual_delivery_time'])\n",
    "\n",
    "# Extract time-based features\n",
    "data['hour_of_day'] = data['created_at'].dt.hour\n",
    "data['day_of_week'] = data['created_at'].dt.dayofweek\n",
    "data['month'] = data['created_at'].dt.month\n",
    "\n",
    "# Compute the delivery duration in minutes\n",
    "data['delivery_duration_minutes'] = (\n",
    "    (data['actual_delivery_time'] - data['created_at']).dt.total_seconds() / 60\n",
    ")\n",
    "\n",
    "# Encode categorical variables\n",
    "le = LabelEncoder()\n",
    "data['store_primary_category_encoded'] = le.fit_transform(data['store_primary_category'])\n"
   ]
  },
  {
   "cell_type": "code",
   "execution_count": 13,
   "id": "0792199b",
   "metadata": {
    "execution": {
     "iopub.execute_input": "2024-12-11T16:57:16.451778Z",
     "iopub.status.busy": "2024-12-11T16:57:16.451343Z",
     "iopub.status.idle": "2024-12-11T16:57:16.456887Z",
     "shell.execute_reply": "2024-12-11T16:57:16.456081Z"
    },
    "papermill": {
     "duration": 0.014727,
     "end_time": "2024-12-11T16:57:16.458554",
     "exception": false,
     "start_time": "2024-12-11T16:57:16.443827",
     "status": "completed"
    },
    "tags": []
   },
   "outputs": [
    {
     "data": {
      "text/plain": [
       "Index(['market_id', 'created_at', 'actual_delivery_time', 'store_id',\n",
       "       'store_primary_category', 'order_protocol', 'total_items', 'subtotal',\n",
       "       'num_distinct_items', 'min_item_price', 'max_item_price',\n",
       "       'total_onshift_dashers', 'total_busy_dashers',\n",
       "       'total_outstanding_orders', 'estimated_order_place_duration',\n",
       "       'estimated_store_to_consumer_driving_duration', 'price_range',\n",
       "       'hour_of_day', 'day_of_week', 'month', 'delivery_duration_minutes',\n",
       "       'store_primary_category_encoded'],\n",
       "      dtype='object')"
      ]
     },
     "execution_count": 13,
     "metadata": {},
     "output_type": "execute_result"
    }
   ],
   "source": [
    "data.columns"
   ]
  },
  {
   "cell_type": "code",
   "execution_count": 14,
   "id": "fe249092",
   "metadata": {
    "execution": {
     "iopub.execute_input": "2024-12-11T16:57:16.473516Z",
     "iopub.status.busy": "2024-12-11T16:57:16.473196Z",
     "iopub.status.idle": "2024-12-11T16:57:16.478982Z",
     "shell.execute_reply": "2024-12-11T16:57:16.478400Z"
    },
    "papermill": {
     "duration": 0.015026,
     "end_time": "2024-12-11T16:57:16.480473",
     "exception": false,
     "start_time": "2024-12-11T16:57:16.465447",
     "status": "completed"
    },
    "tags": []
   },
   "outputs": [],
   "source": [
    "\n",
    "# Dashers per order available\n",
    "\n",
    "data['dashers_per_order'] = data['total_onshift_dashers'] / (data['total_outstanding_orders'] + 1e-5)"
   ]
  },
  {
   "cell_type": "code",
   "execution_count": 15,
   "id": "8e0a775e",
   "metadata": {
    "execution": {
     "iopub.execute_input": "2024-12-11T16:57:16.494929Z",
     "iopub.status.busy": "2024-12-11T16:57:16.494700Z",
     "iopub.status.idle": "2024-12-11T16:57:16.519292Z",
     "shell.execute_reply": "2024-12-11T16:57:16.518563Z"
    },
    "papermill": {
     "duration": 0.033621,
     "end_time": "2024-12-11T16:57:16.520922",
     "exception": false,
     "start_time": "2024-12-11T16:57:16.487301",
     "status": "completed"
    },
    "tags": []
   },
   "outputs": [
    {
     "data": {
      "text/html": [
       "<div>\n",
       "<style scoped>\n",
       "    .dataframe tbody tr th:only-of-type {\n",
       "        vertical-align: middle;\n",
       "    }\n",
       "\n",
       "    .dataframe tbody tr th {\n",
       "        vertical-align: top;\n",
       "    }\n",
       "\n",
       "    .dataframe thead th {\n",
       "        text-align: right;\n",
       "    }\n",
       "</style>\n",
       "<table border=\"1\" class=\"dataframe\">\n",
       "  <thead>\n",
       "    <tr style=\"text-align: right;\">\n",
       "      <th></th>\n",
       "      <th>market_id</th>\n",
       "      <th>created_at</th>\n",
       "      <th>actual_delivery_time</th>\n",
       "      <th>store_id</th>\n",
       "      <th>store_primary_category</th>\n",
       "      <th>order_protocol</th>\n",
       "      <th>total_items</th>\n",
       "      <th>subtotal</th>\n",
       "      <th>num_distinct_items</th>\n",
       "      <th>min_item_price</th>\n",
       "      <th>...</th>\n",
       "      <th>estimated_order_place_duration</th>\n",
       "      <th>estimated_store_to_consumer_driving_duration</th>\n",
       "      <th>price_range</th>\n",
       "      <th>hour_of_day</th>\n",
       "      <th>day_of_week</th>\n",
       "      <th>month</th>\n",
       "      <th>delivery_duration_minutes</th>\n",
       "      <th>store_primary_category_encoded</th>\n",
       "      <th>dashers_per_order</th>\n",
       "      <th>orderPlaced_to_home_location_time</th>\n",
       "    </tr>\n",
       "  </thead>\n",
       "  <tbody>\n",
       "    <tr>\n",
       "      <th>0</th>\n",
       "      <td>1.0</td>\n",
       "      <td>2015-02-06 22:24:17</td>\n",
       "      <td>2015-02-06 23:27:16</td>\n",
       "      <td>1845</td>\n",
       "      <td>american</td>\n",
       "      <td>1.0</td>\n",
       "      <td>4</td>\n",
       "      <td>3441</td>\n",
       "      <td>4</td>\n",
       "      <td>557</td>\n",
       "      <td>...</td>\n",
       "      <td>446</td>\n",
       "      <td>861.0</td>\n",
       "      <td>682</td>\n",
       "      <td>22</td>\n",
       "      <td>4</td>\n",
       "      <td>2</td>\n",
       "      <td>62.983333</td>\n",
       "      <td>5</td>\n",
       "      <td>1.571428</td>\n",
       "      <td>1307.0</td>\n",
       "    </tr>\n",
       "    <tr>\n",
       "      <th>1</th>\n",
       "      <td>2.0</td>\n",
       "      <td>2015-02-10 21:49:25</td>\n",
       "      <td>2015-02-10 22:56:29</td>\n",
       "      <td>5477</td>\n",
       "      <td>mexican</td>\n",
       "      <td>2.0</td>\n",
       "      <td>1</td>\n",
       "      <td>1900</td>\n",
       "      <td>1</td>\n",
       "      <td>1400</td>\n",
       "      <td>...</td>\n",
       "      <td>446</td>\n",
       "      <td>690.0</td>\n",
       "      <td>0</td>\n",
       "      <td>21</td>\n",
       "      <td>1</td>\n",
       "      <td>2</td>\n",
       "      <td>67.066667</td>\n",
       "      <td>48</td>\n",
       "      <td>0.499998</td>\n",
       "      <td>1136.0</td>\n",
       "    </tr>\n",
       "    <tr>\n",
       "      <th>2</th>\n",
       "      <td>3.0</td>\n",
       "      <td>2015-01-22 20:39:28</td>\n",
       "      <td>2015-01-22 21:09:09</td>\n",
       "      <td>5477</td>\n",
       "      <td>Uncategorized</td>\n",
       "      <td>1.0</td>\n",
       "      <td>1</td>\n",
       "      <td>1900</td>\n",
       "      <td>1</td>\n",
       "      <td>1900</td>\n",
       "      <td>...</td>\n",
       "      <td>446</td>\n",
       "      <td>690.0</td>\n",
       "      <td>0</td>\n",
       "      <td>20</td>\n",
       "      <td>3</td>\n",
       "      <td>1</td>\n",
       "      <td>29.683333</td>\n",
       "      <td>0</td>\n",
       "      <td>100000.000000</td>\n",
       "      <td>1136.0</td>\n",
       "    </tr>\n",
       "    <tr>\n",
       "      <th>3</th>\n",
       "      <td>3.0</td>\n",
       "      <td>2015-02-03 21:21:45</td>\n",
       "      <td>2015-02-03 22:13:00</td>\n",
       "      <td>5477</td>\n",
       "      <td>Uncategorized</td>\n",
       "      <td>1.0</td>\n",
       "      <td>6</td>\n",
       "      <td>6900</td>\n",
       "      <td>5</td>\n",
       "      <td>600</td>\n",
       "      <td>...</td>\n",
       "      <td>446</td>\n",
       "      <td>289.0</td>\n",
       "      <td>1200</td>\n",
       "      <td>21</td>\n",
       "      <td>1</td>\n",
       "      <td>2</td>\n",
       "      <td>51.250000</td>\n",
       "      <td>0</td>\n",
       "      <td>0.499998</td>\n",
       "      <td>735.0</td>\n",
       "    </tr>\n",
       "    <tr>\n",
       "      <th>4</th>\n",
       "      <td>3.0</td>\n",
       "      <td>2015-02-15 02:40:36</td>\n",
       "      <td>2015-02-15 03:20:26</td>\n",
       "      <td>5477</td>\n",
       "      <td>Uncategorized</td>\n",
       "      <td>1.0</td>\n",
       "      <td>3</td>\n",
       "      <td>3900</td>\n",
       "      <td>3</td>\n",
       "      <td>1100</td>\n",
       "      <td>...</td>\n",
       "      <td>446</td>\n",
       "      <td>650.0</td>\n",
       "      <td>500</td>\n",
       "      <td>2</td>\n",
       "      <td>6</td>\n",
       "      <td>2</td>\n",
       "      <td>39.833333</td>\n",
       "      <td>0</td>\n",
       "      <td>0.666666</td>\n",
       "      <td>1096.0</td>\n",
       "    </tr>\n",
       "    <tr>\n",
       "      <th>5</th>\n",
       "      <td>3.0</td>\n",
       "      <td>2015-01-28 20:30:38</td>\n",
       "      <td>2015-01-28 21:08:58</td>\n",
       "      <td>5477</td>\n",
       "      <td>Uncategorized</td>\n",
       "      <td>1.0</td>\n",
       "      <td>3</td>\n",
       "      <td>5000</td>\n",
       "      <td>3</td>\n",
       "      <td>1500</td>\n",
       "      <td>...</td>\n",
       "      <td>446</td>\n",
       "      <td>338.0</td>\n",
       "      <td>400</td>\n",
       "      <td>20</td>\n",
       "      <td>2</td>\n",
       "      <td>1</td>\n",
       "      <td>38.333333</td>\n",
       "      <td>0</td>\n",
       "      <td>0.999995</td>\n",
       "      <td>784.0</td>\n",
       "    </tr>\n",
       "    <tr>\n",
       "      <th>6</th>\n",
       "      <td>3.0</td>\n",
       "      <td>2015-01-31 02:16:36</td>\n",
       "      <td>2015-01-31 02:43:00</td>\n",
       "      <td>5477</td>\n",
       "      <td>Uncategorized</td>\n",
       "      <td>1.0</td>\n",
       "      <td>2</td>\n",
       "      <td>3900</td>\n",
       "      <td>2</td>\n",
       "      <td>1200</td>\n",
       "      <td>...</td>\n",
       "      <td>446</td>\n",
       "      <td>638.0</td>\n",
       "      <td>1500</td>\n",
       "      <td>2</td>\n",
       "      <td>5</td>\n",
       "      <td>1</td>\n",
       "      <td>26.400000</td>\n",
       "      <td>0</td>\n",
       "      <td>1.111110</td>\n",
       "      <td>1084.0</td>\n",
       "    </tr>\n",
       "    <tr>\n",
       "      <th>7</th>\n",
       "      <td>3.0</td>\n",
       "      <td>2015-02-12 03:03:35</td>\n",
       "      <td>2015-02-12 03:36:20</td>\n",
       "      <td>5477</td>\n",
       "      <td>Uncategorized</td>\n",
       "      <td>1.0</td>\n",
       "      <td>4</td>\n",
       "      <td>4850</td>\n",
       "      <td>4</td>\n",
       "      <td>750</td>\n",
       "      <td>...</td>\n",
       "      <td>446</td>\n",
       "      <td>626.0</td>\n",
       "      <td>1050</td>\n",
       "      <td>3</td>\n",
       "      <td>3</td>\n",
       "      <td>2</td>\n",
       "      <td>32.750000</td>\n",
       "      <td>0</td>\n",
       "      <td>0.999999</td>\n",
       "      <td>1072.0</td>\n",
       "    </tr>\n",
       "    <tr>\n",
       "      <th>8</th>\n",
       "      <td>2.0</td>\n",
       "      <td>2015-02-16 00:11:35</td>\n",
       "      <td>2015-02-16 00:38:01</td>\n",
       "      <td>5477</td>\n",
       "      <td>indian</td>\n",
       "      <td>3.0</td>\n",
       "      <td>4</td>\n",
       "      <td>4771</td>\n",
       "      <td>3</td>\n",
       "      <td>820</td>\n",
       "      <td>...</td>\n",
       "      <td>446</td>\n",
       "      <td>289.0</td>\n",
       "      <td>784</td>\n",
       "      <td>0</td>\n",
       "      <td>0</td>\n",
       "      <td>2</td>\n",
       "      <td>26.433333</td>\n",
       "      <td>37</td>\n",
       "      <td>0.444444</td>\n",
       "      <td>735.0</td>\n",
       "    </tr>\n",
       "    <tr>\n",
       "      <th>9</th>\n",
       "      <td>3.0</td>\n",
       "      <td>2015-02-18 01:15:45</td>\n",
       "      <td>2015-02-18 02:08:57</td>\n",
       "      <td>5477</td>\n",
       "      <td>Uncategorized</td>\n",
       "      <td>1.0</td>\n",
       "      <td>2</td>\n",
       "      <td>2100</td>\n",
       "      <td>2</td>\n",
       "      <td>700</td>\n",
       "      <td>...</td>\n",
       "      <td>446</td>\n",
       "      <td>715.0</td>\n",
       "      <td>500</td>\n",
       "      <td>1</td>\n",
       "      <td>2</td>\n",
       "      <td>2</td>\n",
       "      <td>53.200000</td>\n",
       "      <td>0</td>\n",
       "      <td>0.999995</td>\n",
       "      <td>1161.0</td>\n",
       "    </tr>\n",
       "  </tbody>\n",
       "</table>\n",
       "<p>10 rows × 24 columns</p>\n",
       "</div>"
      ],
      "text/plain": [
       "   market_id          created_at actual_delivery_time  store_id  \\\n",
       "0        1.0 2015-02-06 22:24:17  2015-02-06 23:27:16      1845   \n",
       "1        2.0 2015-02-10 21:49:25  2015-02-10 22:56:29      5477   \n",
       "2        3.0 2015-01-22 20:39:28  2015-01-22 21:09:09      5477   \n",
       "3        3.0 2015-02-03 21:21:45  2015-02-03 22:13:00      5477   \n",
       "4        3.0 2015-02-15 02:40:36  2015-02-15 03:20:26      5477   \n",
       "5        3.0 2015-01-28 20:30:38  2015-01-28 21:08:58      5477   \n",
       "6        3.0 2015-01-31 02:16:36  2015-01-31 02:43:00      5477   \n",
       "7        3.0 2015-02-12 03:03:35  2015-02-12 03:36:20      5477   \n",
       "8        2.0 2015-02-16 00:11:35  2015-02-16 00:38:01      5477   \n",
       "9        3.0 2015-02-18 01:15:45  2015-02-18 02:08:57      5477   \n",
       "\n",
       "  store_primary_category  order_protocol  total_items  subtotal  \\\n",
       "0               american             1.0            4      3441   \n",
       "1                mexican             2.0            1      1900   \n",
       "2          Uncategorized             1.0            1      1900   \n",
       "3          Uncategorized             1.0            6      6900   \n",
       "4          Uncategorized             1.0            3      3900   \n",
       "5          Uncategorized             1.0            3      5000   \n",
       "6          Uncategorized             1.0            2      3900   \n",
       "7          Uncategorized             1.0            4      4850   \n",
       "8                 indian             3.0            4      4771   \n",
       "9          Uncategorized             1.0            2      2100   \n",
       "\n",
       "   num_distinct_items  min_item_price  ...  estimated_order_place_duration  \\\n",
       "0                   4             557  ...                             446   \n",
       "1                   1            1400  ...                             446   \n",
       "2                   1            1900  ...                             446   \n",
       "3                   5             600  ...                             446   \n",
       "4                   3            1100  ...                             446   \n",
       "5                   3            1500  ...                             446   \n",
       "6                   2            1200  ...                             446   \n",
       "7                   4             750  ...                             446   \n",
       "8                   3             820  ...                             446   \n",
       "9                   2             700  ...                             446   \n",
       "\n",
       "   estimated_store_to_consumer_driving_duration  price_range  hour_of_day  \\\n",
       "0                                         861.0          682           22   \n",
       "1                                         690.0            0           21   \n",
       "2                                         690.0            0           20   \n",
       "3                                         289.0         1200           21   \n",
       "4                                         650.0          500            2   \n",
       "5                                         338.0          400           20   \n",
       "6                                         638.0         1500            2   \n",
       "7                                         626.0         1050            3   \n",
       "8                                         289.0          784            0   \n",
       "9                                         715.0          500            1   \n",
       "\n",
       "   day_of_week  month  delivery_duration_minutes  \\\n",
       "0            4      2                  62.983333   \n",
       "1            1      2                  67.066667   \n",
       "2            3      1                  29.683333   \n",
       "3            1      2                  51.250000   \n",
       "4            6      2                  39.833333   \n",
       "5            2      1                  38.333333   \n",
       "6            5      1                  26.400000   \n",
       "7            3      2                  32.750000   \n",
       "8            0      2                  26.433333   \n",
       "9            2      2                  53.200000   \n",
       "\n",
       "   store_primary_category_encoded  dashers_per_order  \\\n",
       "0                               5           1.571428   \n",
       "1                              48           0.499998   \n",
       "2                               0      100000.000000   \n",
       "3                               0           0.499998   \n",
       "4                               0           0.666666   \n",
       "5                               0           0.999995   \n",
       "6                               0           1.111110   \n",
       "7                               0           0.999999   \n",
       "8                              37           0.444444   \n",
       "9                               0           0.999995   \n",
       "\n",
       "   orderPlaced_to_home_location_time  \n",
       "0                             1307.0  \n",
       "1                             1136.0  \n",
       "2                             1136.0  \n",
       "3                              735.0  \n",
       "4                             1096.0  \n",
       "5                              784.0  \n",
       "6                             1084.0  \n",
       "7                             1072.0  \n",
       "8                              735.0  \n",
       "9                             1161.0  \n",
       "\n",
       "[10 rows x 24 columns]"
      ]
     },
     "execution_count": 15,
     "metadata": {},
     "output_type": "execute_result"
    }
   ],
   "source": [
    "\n",
    "# Total time from placing the order from Doordash to the point where it reaches to the consumer\n",
    "\n",
    "data['orderPlaced_to_home_location_time'] = data['estimated_order_place_duration'] + data['estimated_store_to_consumer_driving_duration']\n",
    "\n",
    "data.head(10)"
   ]
  },
  {
   "cell_type": "code",
   "execution_count": 16,
   "id": "a460415f",
   "metadata": {
    "execution": {
     "iopub.execute_input": "2024-12-11T16:57:16.536485Z",
     "iopub.status.busy": "2024-12-11T16:57:16.536211Z",
     "iopub.status.idle": "2024-12-11T16:57:16.564508Z",
     "shell.execute_reply": "2024-12-11T16:57:16.563899Z"
    },
    "papermill": {
     "duration": 0.037892,
     "end_time": "2024-12-11T16:57:16.566172",
     "exception": false,
     "start_time": "2024-12-11T16:57:16.528280",
     "status": "completed"
    },
    "tags": []
   },
   "outputs": [],
   "source": [
    "# Estimating the Delivery Speed and Average Delivery Time\n",
    "\n",
    "data['Avg_delivery_time'] = data.groupby(['store_id', 'hour_of_day'])['delivery_duration_minutes'].transform('mean')\n",
    "\n",
    "data['Delivery_Speed'] = data['Avg_delivery_time'] / (data['estimated_store_to_consumer_driving_duration'] / 60 + 1e-5)\n",
    "\n"
   ]
  },
  {
   "cell_type": "code",
   "execution_count": 17,
   "id": "9d4347a3",
   "metadata": {
    "execution": {
     "iopub.execute_input": "2024-12-11T16:57:16.581465Z",
     "iopub.status.busy": "2024-12-11T16:57:16.581173Z",
     "iopub.status.idle": "2024-12-11T16:57:16.601054Z",
     "shell.execute_reply": "2024-12-11T16:57:16.600256Z"
    },
    "papermill": {
     "duration": 0.029455,
     "end_time": "2024-12-11T16:57:16.602832",
     "exception": false,
     "start_time": "2024-12-11T16:57:16.573377",
     "status": "completed"
    },
    "tags": []
   },
   "outputs": [
    {
     "data": {
      "text/html": [
       "<div>\n",
       "<style scoped>\n",
       "    .dataframe tbody tr th:only-of-type {\n",
       "        vertical-align: middle;\n",
       "    }\n",
       "\n",
       "    .dataframe tbody tr th {\n",
       "        vertical-align: top;\n",
       "    }\n",
       "\n",
       "    .dataframe thead th {\n",
       "        text-align: right;\n",
       "    }\n",
       "</style>\n",
       "<table border=\"1\" class=\"dataframe\">\n",
       "  <thead>\n",
       "    <tr style=\"text-align: right;\">\n",
       "      <th></th>\n",
       "      <th>market_id</th>\n",
       "      <th>created_at</th>\n",
       "      <th>actual_delivery_time</th>\n",
       "      <th>store_id</th>\n",
       "      <th>store_primary_category</th>\n",
       "      <th>order_protocol</th>\n",
       "      <th>total_items</th>\n",
       "      <th>subtotal</th>\n",
       "      <th>num_distinct_items</th>\n",
       "      <th>min_item_price</th>\n",
       "      <th>...</th>\n",
       "      <th>hour_of_day</th>\n",
       "      <th>day_of_week</th>\n",
       "      <th>month</th>\n",
       "      <th>delivery_duration_minutes</th>\n",
       "      <th>store_primary_category_encoded</th>\n",
       "      <th>dashers_per_order</th>\n",
       "      <th>orderPlaced_to_home_location_time</th>\n",
       "      <th>Avg_delivery_time</th>\n",
       "      <th>Delivery_Speed</th>\n",
       "      <th>Avg_price</th>\n",
       "    </tr>\n",
       "  </thead>\n",
       "  <tbody>\n",
       "    <tr>\n",
       "      <th>0</th>\n",
       "      <td>1.0</td>\n",
       "      <td>2015-02-06 22:24:17</td>\n",
       "      <td>2015-02-06 23:27:16</td>\n",
       "      <td>1845</td>\n",
       "      <td>american</td>\n",
       "      <td>1.0</td>\n",
       "      <td>4</td>\n",
       "      <td>3441</td>\n",
       "      <td>4</td>\n",
       "      <td>557</td>\n",
       "      <td>...</td>\n",
       "      <td>22</td>\n",
       "      <td>4</td>\n",
       "      <td>2</td>\n",
       "      <td>62.983333</td>\n",
       "      <td>5</td>\n",
       "      <td>1.571428</td>\n",
       "      <td>1307.0</td>\n",
       "      <td>62.983333</td>\n",
       "      <td>4.389079</td>\n",
       "      <td>898.0</td>\n",
       "    </tr>\n",
       "    <tr>\n",
       "      <th>1</th>\n",
       "      <td>2.0</td>\n",
       "      <td>2015-02-10 21:49:25</td>\n",
       "      <td>2015-02-10 22:56:29</td>\n",
       "      <td>5477</td>\n",
       "      <td>mexican</td>\n",
       "      <td>2.0</td>\n",
       "      <td>1</td>\n",
       "      <td>1900</td>\n",
       "      <td>1</td>\n",
       "      <td>1400</td>\n",
       "      <td>...</td>\n",
       "      <td>21</td>\n",
       "      <td>1</td>\n",
       "      <td>2</td>\n",
       "      <td>67.066667</td>\n",
       "      <td>48</td>\n",
       "      <td>0.499998</td>\n",
       "      <td>1136.0</td>\n",
       "      <td>59.158333</td>\n",
       "      <td>5.144198</td>\n",
       "      <td>1400.0</td>\n",
       "    </tr>\n",
       "    <tr>\n",
       "      <th>2</th>\n",
       "      <td>3.0</td>\n",
       "      <td>2015-01-22 20:39:28</td>\n",
       "      <td>2015-01-22 21:09:09</td>\n",
       "      <td>5477</td>\n",
       "      <td>Uncategorized</td>\n",
       "      <td>1.0</td>\n",
       "      <td>1</td>\n",
       "      <td>1900</td>\n",
       "      <td>1</td>\n",
       "      <td>1900</td>\n",
       "      <td>...</td>\n",
       "      <td>20</td>\n",
       "      <td>3</td>\n",
       "      <td>1</td>\n",
       "      <td>29.683333</td>\n",
       "      <td>0</td>\n",
       "      <td>100000.000000</td>\n",
       "      <td>1136.0</td>\n",
       "      <td>34.008333</td>\n",
       "      <td>2.957244</td>\n",
       "      <td>1900.0</td>\n",
       "    </tr>\n",
       "    <tr>\n",
       "      <th>3</th>\n",
       "      <td>3.0</td>\n",
       "      <td>2015-02-03 21:21:45</td>\n",
       "      <td>2015-02-03 22:13:00</td>\n",
       "      <td>5477</td>\n",
       "      <td>Uncategorized</td>\n",
       "      <td>1.0</td>\n",
       "      <td>6</td>\n",
       "      <td>6900</td>\n",
       "      <td>5</td>\n",
       "      <td>600</td>\n",
       "      <td>...</td>\n",
       "      <td>21</td>\n",
       "      <td>1</td>\n",
       "      <td>2</td>\n",
       "      <td>51.250000</td>\n",
       "      <td>0</td>\n",
       "      <td>0.499998</td>\n",
       "      <td>735.0</td>\n",
       "      <td>59.158333</td>\n",
       "      <td>12.281981</td>\n",
       "      <td>1200.0</td>\n",
       "    </tr>\n",
       "    <tr>\n",
       "      <th>4</th>\n",
       "      <td>3.0</td>\n",
       "      <td>2015-02-15 02:40:36</td>\n",
       "      <td>2015-02-15 03:20:26</td>\n",
       "      <td>5477</td>\n",
       "      <td>Uncategorized</td>\n",
       "      <td>1.0</td>\n",
       "      <td>3</td>\n",
       "      <td>3900</td>\n",
       "      <td>3</td>\n",
       "      <td>1100</td>\n",
       "      <td>...</td>\n",
       "      <td>2</td>\n",
       "      <td>6</td>\n",
       "      <td>2</td>\n",
       "      <td>39.833333</td>\n",
       "      <td>0</td>\n",
       "      <td>0.666666</td>\n",
       "      <td>1096.0</td>\n",
       "      <td>33.116667</td>\n",
       "      <td>3.056920</td>\n",
       "      <td>1350.0</td>\n",
       "    </tr>\n",
       "  </tbody>\n",
       "</table>\n",
       "<p>5 rows × 27 columns</p>\n",
       "</div>"
      ],
      "text/plain": [
       "   market_id          created_at actual_delivery_time  store_id  \\\n",
       "0        1.0 2015-02-06 22:24:17  2015-02-06 23:27:16      1845   \n",
       "1        2.0 2015-02-10 21:49:25  2015-02-10 22:56:29      5477   \n",
       "2        3.0 2015-01-22 20:39:28  2015-01-22 21:09:09      5477   \n",
       "3        3.0 2015-02-03 21:21:45  2015-02-03 22:13:00      5477   \n",
       "4        3.0 2015-02-15 02:40:36  2015-02-15 03:20:26      5477   \n",
       "\n",
       "  store_primary_category  order_protocol  total_items  subtotal  \\\n",
       "0               american             1.0            4      3441   \n",
       "1                mexican             2.0            1      1900   \n",
       "2          Uncategorized             1.0            1      1900   \n",
       "3          Uncategorized             1.0            6      6900   \n",
       "4          Uncategorized             1.0            3      3900   \n",
       "\n",
       "   num_distinct_items  min_item_price  ...  hour_of_day  day_of_week  month  \\\n",
       "0                   4             557  ...           22            4      2   \n",
       "1                   1            1400  ...           21            1      2   \n",
       "2                   1            1900  ...           20            3      1   \n",
       "3                   5             600  ...           21            1      2   \n",
       "4                   3            1100  ...            2            6      2   \n",
       "\n",
       "   delivery_duration_minutes  store_primary_category_encoded  \\\n",
       "0                  62.983333                               5   \n",
       "1                  67.066667                              48   \n",
       "2                  29.683333                               0   \n",
       "3                  51.250000                               0   \n",
       "4                  39.833333                               0   \n",
       "\n",
       "   dashers_per_order  orderPlaced_to_home_location_time  Avg_delivery_time  \\\n",
       "0           1.571428                             1307.0          62.983333   \n",
       "1           0.499998                             1136.0          59.158333   \n",
       "2      100000.000000                             1136.0          34.008333   \n",
       "3           0.499998                              735.0          59.158333   \n",
       "4           0.666666                             1096.0          33.116667   \n",
       "\n",
       "   Delivery_Speed  Avg_price  \n",
       "0        4.389079      898.0  \n",
       "1        5.144198     1400.0  \n",
       "2        2.957244     1900.0  \n",
       "3       12.281981     1200.0  \n",
       "4        3.056920     1350.0  \n",
       "\n",
       "[5 rows x 27 columns]"
      ]
     },
     "execution_count": 17,
     "metadata": {},
     "output_type": "execute_result"
    }
   ],
   "source": [
    "data['Avg_price'] = (data['min_item_price'] + data['max_item_price'])/2\n",
    "data.head()"
   ]
  },
  {
   "cell_type": "markdown",
   "id": "9ff4f2ae",
   "metadata": {
    "papermill": {
     "duration": 0.00697,
     "end_time": "2024-12-11T16:57:16.617710",
     "exception": false,
     "start_time": "2024-12-11T16:57:16.610740",
     "status": "completed"
    },
    "tags": []
   },
   "source": [
    "-----------------------------------------------------\n",
    "Removing Outliers from the Dataset\n",
    "---------------------------------------------------"
   ]
  },
  {
   "cell_type": "code",
   "execution_count": 18,
   "id": "45df0ae8",
   "metadata": {
    "execution": {
     "iopub.execute_input": "2024-12-11T16:57:16.633754Z",
     "iopub.status.busy": "2024-12-11T16:57:16.633435Z",
     "iopub.status.idle": "2024-12-11T16:57:16.866110Z",
     "shell.execute_reply": "2024-12-11T16:57:16.865106Z"
    },
    "papermill": {
     "duration": 0.243155,
     "end_time": "2024-12-11T16:57:16.868225",
     "exception": false,
     "start_time": "2024-12-11T16:57:16.625070",
     "status": "completed"
    },
    "tags": []
   },
   "outputs": [
    {
     "name": "stdout",
     "output_type": "stream",
     "text": [
      "Original dataset size: 196434\n",
      "Cleaned dataset size: 156055\n"
     ]
    }
   ],
   "source": [
    "def remove_outliers(df, outlier_columns):\n",
    "    # Iterate over each column to remove outliers based on IQR\n",
    "    for col in outlier_columns:\n",
    "        # Calculate the Q1 (25th percentile) and Q3 (75th percentile)\n",
    "        Q1 = df[col].quantile(0.25)\n",
    "        Q3 = df[col].quantile(0.75)\n",
    "        \n",
    "        # Calculate the IQR (Interquartile Range)\n",
    "        IQR = Q3 - Q1\n",
    "        \n",
    "        # Define the lower and upper bounds for outliers\n",
    "        lower_bound = Q1 - 1.5 * IQR\n",
    "        upper_bound = Q3 + 1.5 * IQR\n",
    "        \n",
    "        # Remove rows where the column values are outside the bounds\n",
    "        df = df[(df[col] >= lower_bound) & (df[col] <= upper_bound)]\n",
    "    \n",
    "    return df\n",
    "\n",
    "outlier_columns = [\n",
    "    'subtotal', 'delivery_duration_minutes', 'num_distinct_items', 'price_range','max_item_price', 'Delivery_Speed','Avg_price'\n",
    "]\n",
    "\n",
    "data_cleaned = remove_outliers(data, outlier_columns)\n",
    "\n",
    "# Length of the cleaned dataset after removing outliers\n",
    "print(f\"Original dataset size: {len(data)}\")\n",
    "print(f\"Cleaned dataset size: {len(data_cleaned)}\")\n"
   ]
  },
  {
   "cell_type": "code",
   "execution_count": 19,
   "id": "6092b1dc",
   "metadata": {
    "execution": {
     "iopub.execute_input": "2024-12-11T16:57:16.885906Z",
     "iopub.status.busy": "2024-12-11T16:57:16.885647Z",
     "iopub.status.idle": "2024-12-11T16:57:16.891190Z",
     "shell.execute_reply": "2024-12-11T16:57:16.890436Z"
    },
    "papermill": {
     "duration": 0.015859,
     "end_time": "2024-12-11T16:57:16.892867",
     "exception": false,
     "start_time": "2024-12-11T16:57:16.877008",
     "status": "completed"
    },
    "tags": []
   },
   "outputs": [
    {
     "data": {
      "text/plain": [
       "Index(['market_id', 'created_at', 'actual_delivery_time', 'store_id',\n",
       "       'store_primary_category', 'order_protocol', 'total_items', 'subtotal',\n",
       "       'num_distinct_items', 'min_item_price', 'max_item_price',\n",
       "       'total_onshift_dashers', 'total_busy_dashers',\n",
       "       'total_outstanding_orders', 'estimated_order_place_duration',\n",
       "       'estimated_store_to_consumer_driving_duration', 'price_range',\n",
       "       'hour_of_day', 'day_of_week', 'month', 'delivery_duration_minutes',\n",
       "       'store_primary_category_encoded', 'dashers_per_order',\n",
       "       'orderPlaced_to_home_location_time', 'Avg_delivery_time',\n",
       "       'Delivery_Speed', 'Avg_price'],\n",
       "      dtype='object')"
      ]
     },
     "execution_count": 19,
     "metadata": {},
     "output_type": "execute_result"
    }
   ],
   "source": [
    "data_cleaned.columns"
   ]
  },
  {
   "cell_type": "code",
   "execution_count": 20,
   "id": "6d569a36",
   "metadata": {
    "execution": {
     "iopub.execute_input": "2024-12-11T16:57:16.908851Z",
     "iopub.status.busy": "2024-12-11T16:57:16.908612Z",
     "iopub.status.idle": "2024-12-11T16:57:16.932577Z",
     "shell.execute_reply": "2024-12-11T16:57:16.931869Z"
    },
    "papermill": {
     "duration": 0.034038,
     "end_time": "2024-12-11T16:57:16.934493",
     "exception": false,
     "start_time": "2024-12-11T16:57:16.900455",
     "status": "completed"
    },
    "tags": []
   },
   "outputs": [],
   "source": [
    "# We have the date time in numerical format and also actual delivery time in minutes\n",
    "# Dropping these three columns 'created_at', 'actual_delivery_time', 'store_primary_category'\n",
    "\n",
    "data_cleaned = data_cleaned.drop(columns=['created_at', 'actual_delivery_time', 'store_primary_category'],axis=1)"
   ]
  },
  {
   "cell_type": "markdown",
   "id": "a2bce92a",
   "metadata": {
    "papermill": {
     "duration": 0.007136,
     "end_time": "2024-12-11T16:57:16.949864",
     "exception": false,
     "start_time": "2024-12-11T16:57:16.942728",
     "status": "completed"
    },
    "tags": []
   },
   "source": [
    "------------------------------------------------------\n",
    "Model Training using XGBoost model\n",
    "-----------------------------------"
   ]
  },
  {
   "cell_type": "code",
   "execution_count": 21,
   "id": "232105b5",
   "metadata": {
    "execution": {
     "iopub.execute_input": "2024-12-11T16:57:16.966282Z",
     "iopub.status.busy": "2024-12-11T16:57:16.965611Z",
     "iopub.status.idle": "2024-12-11T16:58:16.469983Z",
     "shell.execute_reply": "2024-12-11T16:58:16.468616Z"
    },
    "papermill": {
     "duration": 59.514942,
     "end_time": "2024-12-11T16:58:16.472146",
     "exception": false,
     "start_time": "2024-12-11T16:57:16.957204",
     "status": "completed"
    },
    "scrolled": true,
    "tags": []
   },
   "outputs": [
    {
     "name": "stdout",
     "output_type": "stream",
     "text": [
      "Using device: cuda\n"
     ]
    },
    {
     "name": "stderr",
     "output_type": "stream",
     "text": [
      "Training Model:   0%|          | 0/100 [00:00<?, ?round/s]/opt/conda/lib/python3.10/site-packages/xgboost/core.py:160: UserWarning: [16:57:21] WARNING: /workspace/src/common/error_msg.cc:27: The tree method `gpu_hist` is deprecated since 2.0.0. To use GPU training, set the `device` parameter to CUDA instead.\n",
      "\n",
      "    E.g. tree_method = \"hist\", device = \"cuda\"\n",
      "\n",
      "  warnings.warn(smsg, UserWarning)\n",
      "Training Model:   1%|          | 1/100 [00:00<01:20,  1.23round/s]"
     ]
    },
    {
     "name": "stdout",
     "output_type": "stream",
     "text": [
      "Round 1 - Time elapsed: 0.81s - Estimated time left: 80.42s\n"
     ]
    },
    {
     "name": "stderr",
     "output_type": "stream",
     "text": [
      "Training Model:   2%|▏         | 2/100 [00:01<01:04,  1.51round/s]"
     ]
    },
    {
     "name": "stdout",
     "output_type": "stream",
     "text": [
      "Round 2 - Time elapsed: 1.37s - Estimated time left: 66.97s\n"
     ]
    },
    {
     "name": "stderr",
     "output_type": "stream",
     "text": [
      "/opt/conda/lib/python3.10/site-packages/xgboost/core.py:160: UserWarning: [16:57:22] WARNING: /workspace/src/common/error_msg.cc:27: The tree method `gpu_hist` is deprecated since 2.0.0. To use GPU training, set the `device` parameter to CUDA instead.\n",
      "\n",
      "    E.g. tree_method = \"hist\", device = \"cuda\"\n",
      "\n",
      "  warnings.warn(smsg, UserWarning)\n",
      "Training Model:   3%|▎         | 3/100 [00:01<00:59,  1.64round/s]"
     ]
    },
    {
     "name": "stdout",
     "output_type": "stream",
     "text": [
      "Round 3 - Time elapsed: 1.92s - Estimated time left: 61.93s\n"
     ]
    },
    {
     "name": "stderr",
     "output_type": "stream",
     "text": [
      "Training Model:   4%|▍         | 4/100 [00:02<00:56,  1.71round/s]"
     ]
    },
    {
     "name": "stdout",
     "output_type": "stream",
     "text": [
      "Round 4 - Time elapsed: 2.47s - Estimated time left: 59.20s\n"
     ]
    },
    {
     "name": "stderr",
     "output_type": "stream",
     "text": [
      "/opt/conda/lib/python3.10/site-packages/xgboost/core.py:160: UserWarning: [16:57:23] WARNING: /workspace/src/common/error_msg.cc:27: The tree method `gpu_hist` is deprecated since 2.0.0. To use GPU training, set the `device` parameter to CUDA instead.\n",
      "\n",
      "    E.g. tree_method = \"hist\", device = \"cuda\"\n",
      "\n",
      "  warnings.warn(smsg, UserWarning)\n",
      "Training Model:   5%|▌         | 5/100 [00:03<00:54,  1.74round/s]"
     ]
    },
    {
     "name": "stdout",
     "output_type": "stream",
     "text": [
      "Round 5 - Time elapsed: 3.02s - Estimated time left: 57.47s\n"
     ]
    },
    {
     "name": "stderr",
     "output_type": "stream",
     "text": [
      "/opt/conda/lib/python3.10/site-packages/xgboost/core.py:160: UserWarning: [16:57:24] WARNING: /workspace/src/common/error_msg.cc:27: The tree method `gpu_hist` is deprecated since 2.0.0. To use GPU training, set the `device` parameter to CUDA instead.\n",
      "\n",
      "    E.g. tree_method = \"hist\", device = \"cuda\"\n",
      "\n",
      "  warnings.warn(smsg, UserWarning)\n",
      "Training Model:   6%|▌         | 6/100 [00:03<00:53,  1.76round/s]"
     ]
    },
    {
     "name": "stdout",
     "output_type": "stream",
     "text": [
      "Round 6 - Time elapsed: 3.58s - Estimated time left: 56.05s\n"
     ]
    },
    {
     "name": "stderr",
     "output_type": "stream",
     "text": [
      "Training Model:   7%|▋         | 7/100 [00:04<00:52,  1.78round/s]"
     ]
    },
    {
     "name": "stdout",
     "output_type": "stream",
     "text": [
      "Round 7 - Time elapsed: 4.13s - Estimated time left: 54.82s\n"
     ]
    },
    {
     "name": "stderr",
     "output_type": "stream",
     "text": [
      "/opt/conda/lib/python3.10/site-packages/xgboost/core.py:160: UserWarning: [16:57:25] WARNING: /workspace/src/common/error_msg.cc:27: The tree method `gpu_hist` is deprecated since 2.0.0. To use GPU training, set the `device` parameter to CUDA instead.\n",
      "\n",
      "    E.g. tree_method = \"hist\", device = \"cuda\"\n",
      "\n",
      "  warnings.warn(smsg, UserWarning)\n",
      "Training Model:   8%|▊         | 8/100 [00:04<00:51,  1.79round/s]"
     ]
    },
    {
     "name": "stdout",
     "output_type": "stream",
     "text": [
      "Round 8 - Time elapsed: 4.68s - Estimated time left: 53.81s\n"
     ]
    },
    {
     "name": "stderr",
     "output_type": "stream",
     "text": [
      "Training Model:   9%|▉         | 9/100 [00:05<00:50,  1.80round/s]"
     ]
    },
    {
     "name": "stdout",
     "output_type": "stream",
     "text": [
      "Round 9 - Time elapsed: 5.23s - Estimated time left: 52.85s\n"
     ]
    },
    {
     "name": "stderr",
     "output_type": "stream",
     "text": [
      "/opt/conda/lib/python3.10/site-packages/xgboost/core.py:160: UserWarning: [16:57:26] WARNING: /workspace/src/common/error_msg.cc:27: The tree method `gpu_hist` is deprecated since 2.0.0. To use GPU training, set the `device` parameter to CUDA instead.\n",
      "\n",
      "    E.g. tree_method = \"hist\", device = \"cuda\"\n",
      "\n",
      "  warnings.warn(smsg, UserWarning)\n",
      "Training Model:  10%|█         | 10/100 [00:05<00:49,  1.80round/s]"
     ]
    },
    {
     "name": "stdout",
     "output_type": "stream",
     "text": [
      "Round 10 - Time elapsed: 5.78s - Estimated time left: 52.02s\n"
     ]
    },
    {
     "name": "stderr",
     "output_type": "stream",
     "text": [
      "Training Model:  11%|█         | 11/100 [00:06<00:49,  1.81round/s]"
     ]
    },
    {
     "name": "stdout",
     "output_type": "stream",
     "text": [
      "Round 11 - Time elapsed: 6.33s - Estimated time left: 51.19s\n"
     ]
    },
    {
     "name": "stderr",
     "output_type": "stream",
     "text": [
      "/opt/conda/lib/python3.10/site-packages/xgboost/core.py:160: UserWarning: [16:57:27] WARNING: /workspace/src/common/error_msg.cc:27: The tree method `gpu_hist` is deprecated since 2.0.0. To use GPU training, set the `device` parameter to CUDA instead.\n",
      "\n",
      "    E.g. tree_method = \"hist\", device = \"cuda\"\n",
      "\n",
      "  warnings.warn(smsg, UserWarning)\n",
      "Training Model:  12%|█▏        | 12/100 [00:06<00:49,  1.79round/s]"
     ]
    },
    {
     "name": "stdout",
     "output_type": "stream",
     "text": [
      "Round 12 - Time elapsed: 6.90s - Estimated time left: 50.61s\n"
     ]
    },
    {
     "name": "stderr",
     "output_type": "stream",
     "text": [
      "Training Model:  13%|█▎        | 13/100 [00:07<00:48,  1.79round/s]"
     ]
    },
    {
     "name": "stdout",
     "output_type": "stream",
     "text": [
      "Round 13 - Time elapsed: 7.46s - Estimated time left: 49.94s\n"
     ]
    },
    {
     "name": "stderr",
     "output_type": "stream",
     "text": [
      "/opt/conda/lib/python3.10/site-packages/xgboost/core.py:160: UserWarning: [16:57:28] WARNING: /workspace/src/common/error_msg.cc:27: The tree method `gpu_hist` is deprecated since 2.0.0. To use GPU training, set the `device` parameter to CUDA instead.\n",
      "\n",
      "    E.g. tree_method = \"hist\", device = \"cuda\"\n",
      "\n",
      "  warnings.warn(smsg, UserWarning)\n",
      "Training Model:  14%|█▍        | 14/100 [00:08<00:47,  1.80round/s]"
     ]
    },
    {
     "name": "stdout",
     "output_type": "stream",
     "text": [
      "Round 14 - Time elapsed: 8.01s - Estimated time left: 49.22s\n"
     ]
    },
    {
     "name": "stderr",
     "output_type": "stream",
     "text": [
      "Training Model:  15%|█▌        | 15/100 [00:08<00:47,  1.80round/s]"
     ]
    },
    {
     "name": "stdout",
     "output_type": "stream",
     "text": [
      "Round 15 - Time elapsed: 8.56s - Estimated time left: 48.53s\n"
     ]
    },
    {
     "name": "stderr",
     "output_type": "stream",
     "text": [
      "/opt/conda/lib/python3.10/site-packages/xgboost/core.py:160: UserWarning: [16:57:29] WARNING: /workspace/src/common/error_msg.cc:27: The tree method `gpu_hist` is deprecated since 2.0.0. To use GPU training, set the `device` parameter to CUDA instead.\n",
      "\n",
      "    E.g. tree_method = \"hist\", device = \"cuda\"\n",
      "\n",
      "  warnings.warn(smsg, UserWarning)\n",
      "Training Model:  16%|█▌        | 16/100 [00:09<00:46,  1.80round/s]"
     ]
    },
    {
     "name": "stdout",
     "output_type": "stream",
     "text": [
      "Round 16 - Time elapsed: 9.12s - Estimated time left: 47.86s\n"
     ]
    },
    {
     "name": "stderr",
     "output_type": "stream",
     "text": [
      "/opt/conda/lib/python3.10/site-packages/xgboost/core.py:160: UserWarning: [16:57:30] WARNING: /workspace/src/common/error_msg.cc:27: The tree method `gpu_hist` is deprecated since 2.0.0. To use GPU training, set the `device` parameter to CUDA instead.\n",
      "\n",
      "    E.g. tree_method = \"hist\", device = \"cuda\"\n",
      "\n",
      "  warnings.warn(smsg, UserWarning)\n",
      "Training Model:  17%|█▋        | 17/100 [00:09<00:45,  1.81round/s]"
     ]
    },
    {
     "name": "stdout",
     "output_type": "stream",
     "text": [
      "Round 17 - Time elapsed: 9.67s - Estimated time left: 47.19s\n"
     ]
    },
    {
     "name": "stderr",
     "output_type": "stream",
     "text": [
      "Training Model:  18%|█▊        | 18/100 [00:10<00:45,  1.82round/s]"
     ]
    },
    {
     "name": "stdout",
     "output_type": "stream",
     "text": [
      "Round 18 - Time elapsed: 10.21s - Estimated time left: 46.52s\n"
     ]
    },
    {
     "name": "stderr",
     "output_type": "stream",
     "text": [
      "/opt/conda/lib/python3.10/site-packages/xgboost/core.py:160: UserWarning: [16:57:31] WARNING: /workspace/src/common/error_msg.cc:27: The tree method `gpu_hist` is deprecated since 2.0.0. To use GPU training, set the `device` parameter to CUDA instead.\n",
      "\n",
      "    E.g. tree_method = \"hist\", device = \"cuda\"\n",
      "\n",
      "  warnings.warn(smsg, UserWarning)\n",
      "Training Model:  19%|█▉        | 19/100 [00:10<00:44,  1.82round/s]"
     ]
    },
    {
     "name": "stdout",
     "output_type": "stream",
     "text": [
      "Round 19 - Time elapsed: 10.76s - Estimated time left: 45.87s\n"
     ]
    },
    {
     "name": "stderr",
     "output_type": "stream",
     "text": [
      "Training Model:  20%|██        | 20/100 [00:11<00:44,  1.82round/s]"
     ]
    },
    {
     "name": "stdout",
     "output_type": "stream",
     "text": [
      "Round 20 - Time elapsed: 11.31s - Estimated time left: 45.25s\n"
     ]
    },
    {
     "name": "stderr",
     "output_type": "stream",
     "text": [
      "/opt/conda/lib/python3.10/site-packages/xgboost/core.py:160: UserWarning: [16:57:32] WARNING: /workspace/src/common/error_msg.cc:27: The tree method `gpu_hist` is deprecated since 2.0.0. To use GPU training, set the `device` parameter to CUDA instead.\n",
      "\n",
      "    E.g. tree_method = \"hist\", device = \"cuda\"\n",
      "\n",
      "  warnings.warn(smsg, UserWarning)\n",
      "Training Model:  21%|██        | 21/100 [00:11<00:43,  1.81round/s]"
     ]
    },
    {
     "name": "stdout",
     "output_type": "stream",
     "text": [
      "Round 21 - Time elapsed: 11.86s - Estimated time left: 44.63s\n"
     ]
    },
    {
     "name": "stderr",
     "output_type": "stream",
     "text": [
      "Training Model:  22%|██▏       | 22/100 [00:12<00:42,  1.82round/s]"
     ]
    },
    {
     "name": "stdout",
     "output_type": "stream",
     "text": [
      "Round 22 - Time elapsed: 12.41s - Estimated time left: 44.00s\n"
     ]
    },
    {
     "name": "stderr",
     "output_type": "stream",
     "text": [
      "/opt/conda/lib/python3.10/site-packages/xgboost/core.py:160: UserWarning: [16:57:33] WARNING: /workspace/src/common/error_msg.cc:27: The tree method `gpu_hist` is deprecated since 2.0.0. To use GPU training, set the `device` parameter to CUDA instead.\n",
      "\n",
      "    E.g. tree_method = \"hist\", device = \"cuda\"\n",
      "\n",
      "  warnings.warn(smsg, UserWarning)\n",
      "Training Model:  23%|██▎       | 23/100 [00:12<00:42,  1.82round/s]"
     ]
    },
    {
     "name": "stdout",
     "output_type": "stream",
     "text": [
      "Round 23 - Time elapsed: 12.96s - Estimated time left: 43.37s\n"
     ]
    },
    {
     "name": "stderr",
     "output_type": "stream",
     "text": [
      "Training Model:  24%|██▍       | 24/100 [00:13<00:41,  1.82round/s]"
     ]
    },
    {
     "name": "stdout",
     "output_type": "stream",
     "text": [
      "Round 24 - Time elapsed: 13.50s - Estimated time left: 42.76s\n"
     ]
    },
    {
     "name": "stderr",
     "output_type": "stream",
     "text": [
      "/opt/conda/lib/python3.10/site-packages/xgboost/core.py:160: UserWarning: [16:57:34] WARNING: /workspace/src/common/error_msg.cc:27: The tree method `gpu_hist` is deprecated since 2.0.0. To use GPU training, set the `device` parameter to CUDA instead.\n",
      "\n",
      "    E.g. tree_method = \"hist\", device = \"cuda\"\n",
      "\n",
      "  warnings.warn(smsg, UserWarning)\n",
      "Training Model:  25%|██▌       | 25/100 [00:14<00:41,  1.83round/s]"
     ]
    },
    {
     "name": "stdout",
     "output_type": "stream",
     "text": [
      "Round 25 - Time elapsed: 14.05s - Estimated time left: 42.15s\n"
     ]
    },
    {
     "name": "stderr",
     "output_type": "stream",
     "text": [
      "/opt/conda/lib/python3.10/site-packages/xgboost/core.py:160: UserWarning: [16:57:35] WARNING: /workspace/src/common/error_msg.cc:27: The tree method `gpu_hist` is deprecated since 2.0.0. To use GPU training, set the `device` parameter to CUDA instead.\n",
      "\n",
      "    E.g. tree_method = \"hist\", device = \"cuda\"\n",
      "\n",
      "  warnings.warn(smsg, UserWarning)\n",
      "Training Model:  26%|██▌       | 26/100 [00:14<00:40,  1.82round/s]"
     ]
    },
    {
     "name": "stdout",
     "output_type": "stream",
     "text": [
      "Round 26 - Time elapsed: 14.60s - Estimated time left: 41.55s\n"
     ]
    },
    {
     "name": "stderr",
     "output_type": "stream",
     "text": [
      "Training Model:  27%|██▋       | 27/100 [00:15<00:40,  1.82round/s]"
     ]
    },
    {
     "name": "stdout",
     "output_type": "stream",
     "text": [
      "Round 27 - Time elapsed: 15.15s - Estimated time left: 40.96s\n"
     ]
    },
    {
     "name": "stderr",
     "output_type": "stream",
     "text": [
      "/opt/conda/lib/python3.10/site-packages/xgboost/core.py:160: UserWarning: [16:57:36] WARNING: /workspace/src/common/error_msg.cc:27: The tree method `gpu_hist` is deprecated since 2.0.0. To use GPU training, set the `device` parameter to CUDA instead.\n",
      "\n",
      "    E.g. tree_method = \"hist\", device = \"cuda\"\n",
      "\n",
      "  warnings.warn(smsg, UserWarning)\n",
      "Training Model:  28%|██▊       | 28/100 [00:15<00:39,  1.82round/s]"
     ]
    },
    {
     "name": "stdout",
     "output_type": "stream",
     "text": [
      "Round 28 - Time elapsed: 15.70s - Estimated time left: 40.36s\n"
     ]
    },
    {
     "name": "stderr",
     "output_type": "stream",
     "text": [
      "Training Model:  29%|██▉       | 29/100 [00:16<00:38,  1.83round/s]"
     ]
    },
    {
     "name": "stdout",
     "output_type": "stream",
     "text": [
      "Round 29 - Time elapsed: 16.24s - Estimated time left: 39.76s\n"
     ]
    },
    {
     "name": "stderr",
     "output_type": "stream",
     "text": [
      "/opt/conda/lib/python3.10/site-packages/xgboost/core.py:160: UserWarning: [16:57:37] WARNING: /workspace/src/common/error_msg.cc:27: The tree method `gpu_hist` is deprecated since 2.0.0. To use GPU training, set the `device` parameter to CUDA instead.\n",
      "\n",
      "    E.g. tree_method = \"hist\", device = \"cuda\"\n",
      "\n",
      "  warnings.warn(smsg, UserWarning)\n",
      "Training Model:  30%|███       | 30/100 [00:16<00:38,  1.83round/s]"
     ]
    },
    {
     "name": "stdout",
     "output_type": "stream",
     "text": [
      "Round 30 - Time elapsed: 16.79s - Estimated time left: 39.17s\n"
     ]
    },
    {
     "name": "stderr",
     "output_type": "stream",
     "text": [
      "Training Model:  31%|███       | 31/100 [00:17<00:37,  1.82round/s]"
     ]
    },
    {
     "name": "stdout",
     "output_type": "stream",
     "text": [
      "Round 31 - Time elapsed: 17.35s - Estimated time left: 38.61s\n"
     ]
    },
    {
     "name": "stderr",
     "output_type": "stream",
     "text": [
      "/opt/conda/lib/python3.10/site-packages/xgboost/core.py:160: UserWarning: [16:57:38] WARNING: /workspace/src/common/error_msg.cc:27: The tree method `gpu_hist` is deprecated since 2.0.0. To use GPU training, set the `device` parameter to CUDA instead.\n",
      "\n",
      "    E.g. tree_method = \"hist\", device = \"cuda\"\n",
      "\n",
      "  warnings.warn(smsg, UserWarning)\n",
      "Training Model:  32%|███▏      | 32/100 [00:17<00:37,  1.82round/s]"
     ]
    },
    {
     "name": "stdout",
     "output_type": "stream",
     "text": [
      "Round 32 - Time elapsed: 17.89s - Estimated time left: 38.02s\n"
     ]
    },
    {
     "name": "stderr",
     "output_type": "stream",
     "text": [
      "Training Model:  33%|███▎      | 33/100 [00:18<00:36,  1.82round/s]"
     ]
    },
    {
     "name": "stdout",
     "output_type": "stream",
     "text": [
      "Round 33 - Time elapsed: 18.44s - Estimated time left: 37.44s\n"
     ]
    },
    {
     "name": "stderr",
     "output_type": "stream",
     "text": [
      "/opt/conda/lib/python3.10/site-packages/xgboost/core.py:160: UserWarning: [16:57:39] WARNING: /workspace/src/common/error_msg.cc:27: The tree method `gpu_hist` is deprecated since 2.0.0. To use GPU training, set the `device` parameter to CUDA instead.\n",
      "\n",
      "    E.g. tree_method = \"hist\", device = \"cuda\"\n",
      "\n",
      "  warnings.warn(smsg, UserWarning)\n",
      "Training Model:  34%|███▍      | 34/100 [00:18<00:36,  1.83round/s]"
     ]
    },
    {
     "name": "stdout",
     "output_type": "stream",
     "text": [
      "Round 34 - Time elapsed: 18.99s - Estimated time left: 36.85s\n"
     ]
    },
    {
     "name": "stderr",
     "output_type": "stream",
     "text": [
      "Training Model:  35%|███▌      | 35/100 [00:19<00:35,  1.83round/s]"
     ]
    },
    {
     "name": "stdout",
     "output_type": "stream",
     "text": [
      "Round 35 - Time elapsed: 19.53s - Estimated time left: 36.27s\n"
     ]
    },
    {
     "name": "stderr",
     "output_type": "stream",
     "text": [
      "/opt/conda/lib/python3.10/site-packages/xgboost/core.py:160: UserWarning: [16:57:40] WARNING: /workspace/src/common/error_msg.cc:27: The tree method `gpu_hist` is deprecated since 2.0.0. To use GPU training, set the `device` parameter to CUDA instead.\n",
      "\n",
      "    E.g. tree_method = \"hist\", device = \"cuda\"\n",
      "\n",
      "  warnings.warn(smsg, UserWarning)\n",
      "Training Model:  36%|███▌      | 36/100 [00:20<00:35,  1.83round/s]"
     ]
    },
    {
     "name": "stdout",
     "output_type": "stream",
     "text": [
      "Round 36 - Time elapsed: 20.08s - Estimated time left: 35.69s\n"
     ]
    },
    {
     "name": "stderr",
     "output_type": "stream",
     "text": [
      "/opt/conda/lib/python3.10/site-packages/xgboost/core.py:160: UserWarning: [16:57:41] WARNING: /workspace/src/common/error_msg.cc:27: The tree method `gpu_hist` is deprecated since 2.0.0. To use GPU training, set the `device` parameter to CUDA instead.\n",
      "\n",
      "    E.g. tree_method = \"hist\", device = \"cuda\"\n",
      "\n",
      "  warnings.warn(smsg, UserWarning)\n",
      "Training Model:  37%|███▋      | 37/100 [00:20<00:34,  1.82round/s]"
     ]
    },
    {
     "name": "stdout",
     "output_type": "stream",
     "text": [
      "Round 37 - Time elapsed: 20.63s - Estimated time left: 35.13s\n"
     ]
    },
    {
     "name": "stderr",
     "output_type": "stream",
     "text": [
      "Training Model:  38%|███▊      | 38/100 [00:21<00:33,  1.83round/s]"
     ]
    },
    {
     "name": "stdout",
     "output_type": "stream",
     "text": [
      "Round 38 - Time elapsed: 21.17s - Estimated time left: 34.55s\n"
     ]
    },
    {
     "name": "stderr",
     "output_type": "stream",
     "text": [
      "/opt/conda/lib/python3.10/site-packages/xgboost/core.py:160: UserWarning: [16:57:42] WARNING: /workspace/src/common/error_msg.cc:27: The tree method `gpu_hist` is deprecated since 2.0.0. To use GPU training, set the `device` parameter to CUDA instead.\n",
      "\n",
      "    E.g. tree_method = \"hist\", device = \"cuda\"\n",
      "\n",
      "  warnings.warn(smsg, UserWarning)\n",
      "Training Model:  39%|███▉      | 39/100 [00:21<00:35,  1.71round/s]"
     ]
    },
    {
     "name": "stdout",
     "output_type": "stream",
     "text": [
      "Round 39 - Time elapsed: 21.84s - Estimated time left: 34.17s\n"
     ]
    },
    {
     "name": "stderr",
     "output_type": "stream",
     "text": [
      "Training Model:  40%|████      | 40/100 [00:22<00:35,  1.67round/s]"
     ]
    },
    {
     "name": "stdout",
     "output_type": "stream",
     "text": [
      "Round 40 - Time elapsed: 22.48s - Estimated time left: 33.72s\n"
     ]
    },
    {
     "name": "stderr",
     "output_type": "stream",
     "text": [
      "/opt/conda/lib/python3.10/site-packages/xgboost/core.py:160: UserWarning: [16:57:43] WARNING: /workspace/src/common/error_msg.cc:27: The tree method `gpu_hist` is deprecated since 2.0.0. To use GPU training, set the `device` parameter to CUDA instead.\n",
      "\n",
      "    E.g. tree_method = \"hist\", device = \"cuda\"\n",
      "\n",
      "  warnings.warn(smsg, UserWarning)\n",
      "Training Model:  41%|████      | 41/100 [00:23<00:35,  1.64round/s]"
     ]
    },
    {
     "name": "stdout",
     "output_type": "stream",
     "text": [
      "Round 41 - Time elapsed: 23.11s - Estimated time left: 33.26s\n"
     ]
    },
    {
     "name": "stderr",
     "output_type": "stream",
     "text": [
      "/opt/conda/lib/python3.10/site-packages/xgboost/core.py:160: UserWarning: [16:57:44] WARNING: /workspace/src/common/error_msg.cc:27: The tree method `gpu_hist` is deprecated since 2.0.0. To use GPU training, set the `device` parameter to CUDA instead.\n",
      "\n",
      "    E.g. tree_method = \"hist\", device = \"cuda\"\n",
      "\n",
      "  warnings.warn(smsg, UserWarning)\n",
      "Training Model:  42%|████▏     | 42/100 [00:23<00:34,  1.70round/s]"
     ]
    },
    {
     "name": "stdout",
     "output_type": "stream",
     "text": [
      "Round 42 - Time elapsed: 23.66s - Estimated time left: 32.67s\n"
     ]
    },
    {
     "name": "stderr",
     "output_type": "stream",
     "text": [
      "Training Model:  43%|████▎     | 43/100 [00:24<00:32,  1.74round/s]"
     ]
    },
    {
     "name": "stdout",
     "output_type": "stream",
     "text": [
      "Round 43 - Time elapsed: 24.20s - Estimated time left: 32.07s\n"
     ]
    },
    {
     "name": "stderr",
     "output_type": "stream",
     "text": [
      "/opt/conda/lib/python3.10/site-packages/xgboost/core.py:160: UserWarning: [16:57:45] WARNING: /workspace/src/common/error_msg.cc:27: The tree method `gpu_hist` is deprecated since 2.0.0. To use GPU training, set the `device` parameter to CUDA instead.\n",
      "\n",
      "    E.g. tree_method = \"hist\", device = \"cuda\"\n",
      "\n",
      "  warnings.warn(smsg, UserWarning)\n",
      "Training Model:  44%|████▍     | 44/100 [00:24<00:31,  1.76round/s]"
     ]
    },
    {
     "name": "stdout",
     "output_type": "stream",
     "text": [
      "Round 44 - Time elapsed: 24.75s - Estimated time left: 31.50s\n"
     ]
    },
    {
     "name": "stderr",
     "output_type": "stream",
     "text": [
      "Training Model:  45%|████▌     | 45/100 [00:25<00:30,  1.78round/s]"
     ]
    },
    {
     "name": "stdout",
     "output_type": "stream",
     "text": [
      "Round 45 - Time elapsed: 25.30s - Estimated time left: 30.92s\n"
     ]
    },
    {
     "name": "stderr",
     "output_type": "stream",
     "text": [
      "/opt/conda/lib/python3.10/site-packages/xgboost/core.py:160: UserWarning: [16:57:46] WARNING: /workspace/src/common/error_msg.cc:27: The tree method `gpu_hist` is deprecated since 2.0.0. To use GPU training, set the `device` parameter to CUDA instead.\n",
      "\n",
      "    E.g. tree_method = \"hist\", device = \"cuda\"\n",
      "\n",
      "  warnings.warn(smsg, UserWarning)\n",
      "Training Model:  46%|████▌     | 46/100 [00:25<00:30,  1.79round/s]"
     ]
    },
    {
     "name": "stdout",
     "output_type": "stream",
     "text": [
      "Round 46 - Time elapsed: 25.85s - Estimated time left: 30.34s\n"
     ]
    },
    {
     "name": "stderr",
     "output_type": "stream",
     "text": [
      "Training Model:  47%|████▋     | 47/100 [00:26<00:29,  1.81round/s]"
     ]
    },
    {
     "name": "stdout",
     "output_type": "stream",
     "text": [
      "Round 47 - Time elapsed: 26.39s - Estimated time left: 29.76s\n"
     ]
    },
    {
     "name": "stderr",
     "output_type": "stream",
     "text": [
      "/opt/conda/lib/python3.10/site-packages/xgboost/core.py:160: UserWarning: [16:57:47] WARNING: /workspace/src/common/error_msg.cc:27: The tree method `gpu_hist` is deprecated since 2.0.0. To use GPU training, set the `device` parameter to CUDA instead.\n",
      "\n",
      "    E.g. tree_method = \"hist\", device = \"cuda\"\n",
      "\n",
      "  warnings.warn(smsg, UserWarning)\n",
      "Training Model:  48%|████▊     | 48/100 [00:26<00:28,  1.80round/s]"
     ]
    },
    {
     "name": "stdout",
     "output_type": "stream",
     "text": [
      "Round 48 - Time elapsed: 26.95s - Estimated time left: 29.19s\n"
     ]
    },
    {
     "name": "stderr",
     "output_type": "stream",
     "text": [
      "Training Model:  49%|████▉     | 49/100 [00:27<00:28,  1.80round/s]"
     ]
    },
    {
     "name": "stdout",
     "output_type": "stream",
     "text": [
      "Round 49 - Time elapsed: 27.51s - Estimated time left: 28.63s\n"
     ]
    },
    {
     "name": "stderr",
     "output_type": "stream",
     "text": [
      "/opt/conda/lib/python3.10/site-packages/xgboost/core.py:160: UserWarning: [16:57:48] WARNING: /workspace/src/common/error_msg.cc:27: The tree method `gpu_hist` is deprecated since 2.0.0. To use GPU training, set the `device` parameter to CUDA instead.\n",
      "\n",
      "    E.g. tree_method = \"hist\", device = \"cuda\"\n",
      "\n",
      "  warnings.warn(smsg, UserWarning)\n",
      "Training Model:  50%|█████     | 50/100 [00:28<00:27,  1.81round/s]"
     ]
    },
    {
     "name": "stdout",
     "output_type": "stream",
     "text": [
      "Round 50 - Time elapsed: 28.05s - Estimated time left: 28.05s\n"
     ]
    },
    {
     "name": "stderr",
     "output_type": "stream",
     "text": [
      "/opt/conda/lib/python3.10/site-packages/xgboost/core.py:160: UserWarning: [16:57:49] WARNING: /workspace/src/common/error_msg.cc:27: The tree method `gpu_hist` is deprecated since 2.0.0. To use GPU training, set the `device` parameter to CUDA instead.\n",
      "\n",
      "    E.g. tree_method = \"hist\", device = \"cuda\"\n",
      "\n",
      "  warnings.warn(smsg, UserWarning)\n",
      "Training Model:  51%|█████     | 51/100 [00:28<00:27,  1.81round/s]"
     ]
    },
    {
     "name": "stdout",
     "output_type": "stream",
     "text": [
      "Round 51 - Time elapsed: 28.60s - Estimated time left: 27.48s\n"
     ]
    },
    {
     "name": "stderr",
     "output_type": "stream",
     "text": [
      "Training Model:  52%|█████▏    | 52/100 [00:29<00:26,  1.82round/s]"
     ]
    },
    {
     "name": "stdout",
     "output_type": "stream",
     "text": [
      "Round 52 - Time elapsed: 29.15s - Estimated time left: 26.91s\n"
     ]
    },
    {
     "name": "stderr",
     "output_type": "stream",
     "text": [
      "/opt/conda/lib/python3.10/site-packages/xgboost/core.py:160: UserWarning: [16:57:50] WARNING: /workspace/src/common/error_msg.cc:27: The tree method `gpu_hist` is deprecated since 2.0.0. To use GPU training, set the `device` parameter to CUDA instead.\n",
      "\n",
      "    E.g. tree_method = \"hist\", device = \"cuda\"\n",
      "\n",
      "  warnings.warn(smsg, UserWarning)\n",
      "Training Model:  53%|█████▎    | 53/100 [00:29<00:25,  1.82round/s]"
     ]
    },
    {
     "name": "stdout",
     "output_type": "stream",
     "text": [
      "Round 53 - Time elapsed: 29.69s - Estimated time left: 26.33s\n"
     ]
    },
    {
     "name": "stderr",
     "output_type": "stream",
     "text": [
      "Training Model:  54%|█████▍    | 54/100 [00:30<00:25,  1.82round/s]"
     ]
    },
    {
     "name": "stdout",
     "output_type": "stream",
     "text": [
      "Round 54 - Time elapsed: 30.24s - Estimated time left: 25.76s\n"
     ]
    },
    {
     "name": "stderr",
     "output_type": "stream",
     "text": [
      "/opt/conda/lib/python3.10/site-packages/xgboost/core.py:160: UserWarning: [16:57:51] WARNING: /workspace/src/common/error_msg.cc:27: The tree method `gpu_hist` is deprecated since 2.0.0. To use GPU training, set the `device` parameter to CUDA instead.\n",
      "\n",
      "    E.g. tree_method = \"hist\", device = \"cuda\"\n",
      "\n",
      "  warnings.warn(smsg, UserWarning)\n",
      "Training Model:  55%|█████▌    | 55/100 [00:30<00:24,  1.83round/s]"
     ]
    },
    {
     "name": "stdout",
     "output_type": "stream",
     "text": [
      "Round 55 - Time elapsed: 30.79s - Estimated time left: 25.19s\n"
     ]
    },
    {
     "name": "stderr",
     "output_type": "stream",
     "text": [
      "Training Model:  56%|█████▌    | 56/100 [00:31<00:24,  1.83round/s]"
     ]
    },
    {
     "name": "stdout",
     "output_type": "stream",
     "text": [
      "Round 56 - Time elapsed: 31.33s - Estimated time left: 24.62s\n"
     ]
    },
    {
     "name": "stderr",
     "output_type": "stream",
     "text": [
      "/opt/conda/lib/python3.10/site-packages/xgboost/core.py:160: UserWarning: [16:57:52] WARNING: /workspace/src/common/error_msg.cc:27: The tree method `gpu_hist` is deprecated since 2.0.0. To use GPU training, set the `device` parameter to CUDA instead.\n",
      "\n",
      "    E.g. tree_method = \"hist\", device = \"cuda\"\n",
      "\n",
      "  warnings.warn(smsg, UserWarning)\n",
      "Training Model:  57%|█████▋    | 57/100 [00:31<00:23,  1.83round/s]"
     ]
    },
    {
     "name": "stdout",
     "output_type": "stream",
     "text": [
      "Round 57 - Time elapsed: 31.88s - Estimated time left: 24.05s\n"
     ]
    },
    {
     "name": "stderr",
     "output_type": "stream",
     "text": [
      "Training Model:  58%|█████▊    | 58/100 [00:32<00:22,  1.83round/s]"
     ]
    },
    {
     "name": "stdout",
     "output_type": "stream",
     "text": [
      "Round 58 - Time elapsed: 32.43s - Estimated time left: 23.48s\n"
     ]
    },
    {
     "name": "stderr",
     "output_type": "stream",
     "text": [
      "/opt/conda/lib/python3.10/site-packages/xgboost/core.py:160: UserWarning: [16:57:53] WARNING: /workspace/src/common/error_msg.cc:27: The tree method `gpu_hist` is deprecated since 2.0.0. To use GPU training, set the `device` parameter to CUDA instead.\n",
      "\n",
      "    E.g. tree_method = \"hist\", device = \"cuda\"\n",
      "\n",
      "  warnings.warn(smsg, UserWarning)\n",
      "Training Model:  59%|█████▉    | 59/100 [00:32<00:22,  1.83round/s]"
     ]
    },
    {
     "name": "stdout",
     "output_type": "stream",
     "text": [
      "Round 59 - Time elapsed: 32.97s - Estimated time left: 22.91s\n"
     ]
    },
    {
     "name": "stderr",
     "output_type": "stream",
     "text": [
      "Training Model:  60%|██████    | 60/100 [00:33<00:21,  1.83round/s]"
     ]
    },
    {
     "name": "stdout",
     "output_type": "stream",
     "text": [
      "Round 60 - Time elapsed: 33.52s - Estimated time left: 22.34s\n"
     ]
    },
    {
     "name": "stderr",
     "output_type": "stream",
     "text": [
      "/opt/conda/lib/python3.10/site-packages/xgboost/core.py:160: UserWarning: [16:57:54] WARNING: /workspace/src/common/error_msg.cc:27: The tree method `gpu_hist` is deprecated since 2.0.0. To use GPU training, set the `device` parameter to CUDA instead.\n",
      "\n",
      "    E.g. tree_method = \"hist\", device = \"cuda\"\n",
      "\n",
      "  warnings.warn(smsg, UserWarning)\n",
      "Training Model:  61%|██████    | 61/100 [00:34<00:21,  1.84round/s]"
     ]
    },
    {
     "name": "stdout",
     "output_type": "stream",
     "text": [
      "Round 61 - Time elapsed: 34.06s - Estimated time left: 21.78s\n"
     ]
    },
    {
     "name": "stderr",
     "output_type": "stream",
     "text": [
      "/opt/conda/lib/python3.10/site-packages/xgboost/core.py:160: UserWarning: [16:57:55] WARNING: /workspace/src/common/error_msg.cc:27: The tree method `gpu_hist` is deprecated since 2.0.0. To use GPU training, set the `device` parameter to CUDA instead.\n",
      "\n",
      "    E.g. tree_method = \"hist\", device = \"cuda\"\n",
      "\n",
      "  warnings.warn(smsg, UserWarning)\n",
      "Training Model:  62%|██████▏   | 62/100 [00:34<00:20,  1.84round/s]"
     ]
    },
    {
     "name": "stdout",
     "output_type": "stream",
     "text": [
      "Round 62 - Time elapsed: 34.60s - Estimated time left: 21.21s\n"
     ]
    },
    {
     "name": "stderr",
     "output_type": "stream",
     "text": [
      "Training Model:  63%|██████▎   | 63/100 [00:35<00:20,  1.83round/s]"
     ]
    },
    {
     "name": "stdout",
     "output_type": "stream",
     "text": [
      "Round 63 - Time elapsed: 35.15s - Estimated time left: 20.64s\n"
     ]
    },
    {
     "name": "stderr",
     "output_type": "stream",
     "text": [
      "/opt/conda/lib/python3.10/site-packages/xgboost/core.py:160: UserWarning: [16:57:56] WARNING: /workspace/src/common/error_msg.cc:27: The tree method `gpu_hist` is deprecated since 2.0.0. To use GPU training, set the `device` parameter to CUDA instead.\n",
      "\n",
      "    E.g. tree_method = \"hist\", device = \"cuda\"\n",
      "\n",
      "  warnings.warn(smsg, UserWarning)\n",
      "Training Model:  64%|██████▍   | 64/100 [00:35<00:19,  1.83round/s]"
     ]
    },
    {
     "name": "stdout",
     "output_type": "stream",
     "text": [
      "Round 64 - Time elapsed: 35.70s - Estimated time left: 20.08s\n"
     ]
    },
    {
     "name": "stderr",
     "output_type": "stream",
     "text": [
      "Training Model:  65%|██████▌   | 65/100 [00:36<00:19,  1.82round/s]"
     ]
    },
    {
     "name": "stdout",
     "output_type": "stream",
     "text": [
      "Round 65 - Time elapsed: 36.26s - Estimated time left: 19.52s\n"
     ]
    },
    {
     "name": "stderr",
     "output_type": "stream",
     "text": [
      "/opt/conda/lib/python3.10/site-packages/xgboost/core.py:160: UserWarning: [16:57:57] WARNING: /workspace/src/common/error_msg.cc:27: The tree method `gpu_hist` is deprecated since 2.0.0. To use GPU training, set the `device` parameter to CUDA instead.\n",
      "\n",
      "    E.g. tree_method = \"hist\", device = \"cuda\"\n",
      "\n",
      "  warnings.warn(smsg, UserWarning)\n",
      "Training Model:  66%|██████▌   | 66/100 [00:36<00:18,  1.82round/s]"
     ]
    },
    {
     "name": "stdout",
     "output_type": "stream",
     "text": [
      "Round 66 - Time elapsed: 36.80s - Estimated time left: 18.96s\n"
     ]
    },
    {
     "name": "stderr",
     "output_type": "stream",
     "text": [
      "Training Model:  67%|██████▋   | 67/100 [00:37<00:18,  1.82round/s]"
     ]
    },
    {
     "name": "stdout",
     "output_type": "stream",
     "text": [
      "Round 67 - Time elapsed: 37.36s - Estimated time left: 18.40s\n"
     ]
    },
    {
     "name": "stderr",
     "output_type": "stream",
     "text": [
      "/opt/conda/lib/python3.10/site-packages/xgboost/core.py:160: UserWarning: [16:57:58] WARNING: /workspace/src/common/error_msg.cc:27: The tree method `gpu_hist` is deprecated since 2.0.0. To use GPU training, set the `device` parameter to CUDA instead.\n",
      "\n",
      "    E.g. tree_method = \"hist\", device = \"cuda\"\n",
      "\n",
      "  warnings.warn(smsg, UserWarning)\n",
      "Training Model:  68%|██████▊   | 68/100 [00:37<00:17,  1.82round/s]"
     ]
    },
    {
     "name": "stdout",
     "output_type": "stream",
     "text": [
      "Round 68 - Time elapsed: 37.90s - Estimated time left: 17.84s\n"
     ]
    },
    {
     "name": "stderr",
     "output_type": "stream",
     "text": [
      "Training Model:  69%|██████▉   | 69/100 [00:38<00:17,  1.82round/s]"
     ]
    },
    {
     "name": "stdout",
     "output_type": "stream",
     "text": [
      "Round 69 - Time elapsed: 38.45s - Estimated time left: 17.27s\n"
     ]
    },
    {
     "name": "stderr",
     "output_type": "stream",
     "text": [
      "/opt/conda/lib/python3.10/site-packages/xgboost/core.py:160: UserWarning: [16:57:59] WARNING: /workspace/src/common/error_msg.cc:27: The tree method `gpu_hist` is deprecated since 2.0.0. To use GPU training, set the `device` parameter to CUDA instead.\n",
      "\n",
      "    E.g. tree_method = \"hist\", device = \"cuda\"\n",
      "\n",
      "  warnings.warn(smsg, UserWarning)\n",
      "Training Model:  70%|███████   | 70/100 [00:38<00:16,  1.82round/s]"
     ]
    },
    {
     "name": "stdout",
     "output_type": "stream",
     "text": [
      "Round 70 - Time elapsed: 39.00s - Estimated time left: 16.71s\n"
     ]
    },
    {
     "name": "stderr",
     "output_type": "stream",
     "text": [
      "Training Model:  71%|███████   | 71/100 [00:39<00:15,  1.83round/s]"
     ]
    },
    {
     "name": "stdout",
     "output_type": "stream",
     "text": [
      "Round 71 - Time elapsed: 39.54s - Estimated time left: 16.15s\n"
     ]
    },
    {
     "name": "stderr",
     "output_type": "stream",
     "text": [
      "/opt/conda/lib/python3.10/site-packages/xgboost/core.py:160: UserWarning: [16:58:00] WARNING: /workspace/src/common/error_msg.cc:27: The tree method `gpu_hist` is deprecated since 2.0.0. To use GPU training, set the `device` parameter to CUDA instead.\n",
      "\n",
      "    E.g. tree_method = \"hist\", device = \"cuda\"\n",
      "\n",
      "  warnings.warn(smsg, UserWarning)\n",
      "Training Model:  72%|███████▏  | 72/100 [00:40<00:15,  1.83round/s]"
     ]
    },
    {
     "name": "stdout",
     "output_type": "stream",
     "text": [
      "Round 72 - Time elapsed: 40.09s - Estimated time left: 15.59s\n"
     ]
    },
    {
     "name": "stderr",
     "output_type": "stream",
     "text": [
      "/opt/conda/lib/python3.10/site-packages/xgboost/core.py:160: UserWarning: [16:58:01] WARNING: /workspace/src/common/error_msg.cc:27: The tree method `gpu_hist` is deprecated since 2.0.0. To use GPU training, set the `device` parameter to CUDA instead.\n",
      "\n",
      "    E.g. tree_method = \"hist\", device = \"cuda\"\n",
      "\n",
      "  warnings.warn(smsg, UserWarning)\n",
      "Training Model:  73%|███████▎  | 73/100 [00:40<00:14,  1.83round/s]"
     ]
    },
    {
     "name": "stdout",
     "output_type": "stream",
     "text": [
      "Round 73 - Time elapsed: 40.63s - Estimated time left: 15.03s\n"
     ]
    },
    {
     "name": "stderr",
     "output_type": "stream",
     "text": [
      "Training Model:  74%|███████▍  | 74/100 [00:41<00:14,  1.83round/s]"
     ]
    },
    {
     "name": "stdout",
     "output_type": "stream",
     "text": [
      "Round 74 - Time elapsed: 41.18s - Estimated time left: 14.47s\n"
     ]
    },
    {
     "name": "stderr",
     "output_type": "stream",
     "text": [
      "/opt/conda/lib/python3.10/site-packages/xgboost/core.py:160: UserWarning: [16:58:02] WARNING: /workspace/src/common/error_msg.cc:27: The tree method `gpu_hist` is deprecated since 2.0.0. To use GPU training, set the `device` parameter to CUDA instead.\n",
      "\n",
      "    E.g. tree_method = \"hist\", device = \"cuda\"\n",
      "\n",
      "  warnings.warn(smsg, UserWarning)\n",
      "Training Model:  75%|███████▌  | 75/100 [00:41<00:13,  1.83round/s]"
     ]
    },
    {
     "name": "stdout",
     "output_type": "stream",
     "text": [
      "Round 75 - Time elapsed: 41.72s - Estimated time left: 13.91s\n"
     ]
    },
    {
     "name": "stderr",
     "output_type": "stream",
     "text": [
      "Training Model:  76%|███████▌  | 76/100 [00:42<00:13,  1.83round/s]"
     ]
    },
    {
     "name": "stdout",
     "output_type": "stream",
     "text": [
      "Round 76 - Time elapsed: 42.27s - Estimated time left: 13.35s\n"
     ]
    },
    {
     "name": "stderr",
     "output_type": "stream",
     "text": [
      "/opt/conda/lib/python3.10/site-packages/xgboost/core.py:160: UserWarning: [16:58:03] WARNING: /workspace/src/common/error_msg.cc:27: The tree method `gpu_hist` is deprecated since 2.0.0. To use GPU training, set the `device` parameter to CUDA instead.\n",
      "\n",
      "    E.g. tree_method = \"hist\", device = \"cuda\"\n",
      "\n",
      "  warnings.warn(smsg, UserWarning)\n",
      "Training Model:  77%|███████▋  | 77/100 [00:42<00:12,  1.84round/s]"
     ]
    },
    {
     "name": "stdout",
     "output_type": "stream",
     "text": [
      "Round 77 - Time elapsed: 42.81s - Estimated time left: 12.79s\n"
     ]
    },
    {
     "name": "stderr",
     "output_type": "stream",
     "text": [
      "Training Model:  78%|███████▊  | 78/100 [00:43<00:11,  1.84round/s]"
     ]
    },
    {
     "name": "stdout",
     "output_type": "stream",
     "text": [
      "Round 78 - Time elapsed: 43.35s - Estimated time left: 12.23s\n"
     ]
    },
    {
     "name": "stderr",
     "output_type": "stream",
     "text": [
      "/opt/conda/lib/python3.10/site-packages/xgboost/core.py:160: UserWarning: [16:58:04] WARNING: /workspace/src/common/error_msg.cc:27: The tree method `gpu_hist` is deprecated since 2.0.0. To use GPU training, set the `device` parameter to CUDA instead.\n",
      "\n",
      "    E.g. tree_method = \"hist\", device = \"cuda\"\n",
      "\n",
      "  warnings.warn(smsg, UserWarning)\n",
      "Training Model:  79%|███████▉  | 79/100 [00:43<00:11,  1.83round/s]"
     ]
    },
    {
     "name": "stdout",
     "output_type": "stream",
     "text": [
      "Round 79 - Time elapsed: 43.90s - Estimated time left: 11.67s\n"
     ]
    },
    {
     "name": "stderr",
     "output_type": "stream",
     "text": [
      "Training Model:  80%|████████  | 80/100 [00:44<00:10,  1.83round/s]"
     ]
    },
    {
     "name": "stdout",
     "output_type": "stream",
     "text": [
      "Round 80 - Time elapsed: 44.45s - Estimated time left: 11.11s\n"
     ]
    },
    {
     "name": "stderr",
     "output_type": "stream",
     "text": [
      "/opt/conda/lib/python3.10/site-packages/xgboost/core.py:160: UserWarning: [16:58:05] WARNING: /workspace/src/common/error_msg.cc:27: The tree method `gpu_hist` is deprecated since 2.0.0. To use GPU training, set the `device` parameter to CUDA instead.\n",
      "\n",
      "    E.g. tree_method = \"hist\", device = \"cuda\"\n",
      "\n",
      "  warnings.warn(smsg, UserWarning)\n",
      "Training Model:  81%|████████  | 81/100 [00:44<00:10,  1.83round/s]"
     ]
    },
    {
     "name": "stdout",
     "output_type": "stream",
     "text": [
      "Round 81 - Time elapsed: 44.99s - Estimated time left: 10.55s\n"
     ]
    },
    {
     "name": "stderr",
     "output_type": "stream",
     "text": [
      "Training Model:  82%|████████▏ | 82/100 [00:45<00:09,  1.83round/s]"
     ]
    },
    {
     "name": "stdout",
     "output_type": "stream",
     "text": [
      "Round 82 - Time elapsed: 45.54s - Estimated time left: 10.00s\n"
     ]
    },
    {
     "name": "stderr",
     "output_type": "stream",
     "text": [
      "/opt/conda/lib/python3.10/site-packages/xgboost/core.py:160: UserWarning: [16:58:06] WARNING: /workspace/src/common/error_msg.cc:27: The tree method `gpu_hist` is deprecated since 2.0.0. To use GPU training, set the `device` parameter to CUDA instead.\n",
      "\n",
      "    E.g. tree_method = \"hist\", device = \"cuda\"\n",
      "\n",
      "  warnings.warn(smsg, UserWarning)\n",
      "Training Model:  83%|████████▎ | 83/100 [00:46<00:09,  1.83round/s]"
     ]
    },
    {
     "name": "stdout",
     "output_type": "stream",
     "text": [
      "Round 83 - Time elapsed: 46.09s - Estimated time left: 9.44s\n"
     ]
    },
    {
     "name": "stderr",
     "output_type": "stream",
     "text": [
      "/opt/conda/lib/python3.10/site-packages/xgboost/core.py:160: UserWarning: [16:58:07] WARNING: /workspace/src/common/error_msg.cc:27: The tree method `gpu_hist` is deprecated since 2.0.0. To use GPU training, set the `device` parameter to CUDA instead.\n",
      "\n",
      "    E.g. tree_method = \"hist\", device = \"cuda\"\n",
      "\n",
      "  warnings.warn(smsg, UserWarning)\n",
      "Training Model:  84%|████████▍ | 84/100 [00:46<00:08,  1.83round/s]"
     ]
    },
    {
     "name": "stdout",
     "output_type": "stream",
     "text": [
      "Round 84 - Time elapsed: 46.63s - Estimated time left: 8.88s\n"
     ]
    },
    {
     "name": "stderr",
     "output_type": "stream",
     "text": [
      "Training Model:  85%|████████▌ | 85/100 [00:47<00:08,  1.83round/s]"
     ]
    },
    {
     "name": "stdout",
     "output_type": "stream",
     "text": [
      "Round 85 - Time elapsed: 47.18s - Estimated time left: 8.33s\n"
     ]
    },
    {
     "name": "stderr",
     "output_type": "stream",
     "text": [
      "/opt/conda/lib/python3.10/site-packages/xgboost/core.py:160: UserWarning: [16:58:08] WARNING: /workspace/src/common/error_msg.cc:27: The tree method `gpu_hist` is deprecated since 2.0.0. To use GPU training, set the `device` parameter to CUDA instead.\n",
      "\n",
      "    E.g. tree_method = \"hist\", device = \"cuda\"\n",
      "\n",
      "  warnings.warn(smsg, UserWarning)\n",
      "Training Model:  86%|████████▌ | 86/100 [00:47<00:07,  1.81round/s]"
     ]
    },
    {
     "name": "stdout",
     "output_type": "stream",
     "text": [
      "Round 86 - Time elapsed: 47.75s - Estimated time left: 7.77s\n"
     ]
    },
    {
     "name": "stderr",
     "output_type": "stream",
     "text": [
      "Training Model:  87%|████████▋ | 87/100 [00:48<00:07,  1.81round/s]"
     ]
    },
    {
     "name": "stdout",
     "output_type": "stream",
     "text": [
      "Round 87 - Time elapsed: 48.30s - Estimated time left: 7.22s\n"
     ]
    },
    {
     "name": "stderr",
     "output_type": "stream",
     "text": [
      "/opt/conda/lib/python3.10/site-packages/xgboost/core.py:160: UserWarning: [16:58:09] WARNING: /workspace/src/common/error_msg.cc:27: The tree method `gpu_hist` is deprecated since 2.0.0. To use GPU training, set the `device` parameter to CUDA instead.\n",
      "\n",
      "    E.g. tree_method = \"hist\", device = \"cuda\"\n",
      "\n",
      "  warnings.warn(smsg, UserWarning)\n",
      "Training Model:  88%|████████▊ | 88/100 [00:48<00:06,  1.82round/s]"
     ]
    },
    {
     "name": "stdout",
     "output_type": "stream",
     "text": [
      "Round 88 - Time elapsed: 48.84s - Estimated time left: 6.66s\n"
     ]
    },
    {
     "name": "stderr",
     "output_type": "stream",
     "text": [
      "Training Model:  89%|████████▉ | 89/100 [00:49<00:06,  1.83round/s]"
     ]
    },
    {
     "name": "stdout",
     "output_type": "stream",
     "text": [
      "Round 89 - Time elapsed: 49.39s - Estimated time left: 6.10s\n"
     ]
    },
    {
     "name": "stderr",
     "output_type": "stream",
     "text": [
      "/opt/conda/lib/python3.10/site-packages/xgboost/core.py:160: UserWarning: [16:58:10] WARNING: /workspace/src/common/error_msg.cc:27: The tree method `gpu_hist` is deprecated since 2.0.0. To use GPU training, set the `device` parameter to CUDA instead.\n",
      "\n",
      "    E.g. tree_method = \"hist\", device = \"cuda\"\n",
      "\n",
      "  warnings.warn(smsg, UserWarning)\n",
      "Training Model:  90%|█████████ | 90/100 [00:49<00:05,  1.83round/s]"
     ]
    },
    {
     "name": "stdout",
     "output_type": "stream",
     "text": [
      "Round 90 - Time elapsed: 49.93s - Estimated time left: 5.55s\n"
     ]
    },
    {
     "name": "stderr",
     "output_type": "stream",
     "text": [
      "Training Model:  91%|█████████ | 91/100 [00:50<00:04,  1.83round/s]"
     ]
    },
    {
     "name": "stdout",
     "output_type": "stream",
     "text": [
      "Round 91 - Time elapsed: 50.48s - Estimated time left: 4.99s\n"
     ]
    },
    {
     "name": "stderr",
     "output_type": "stream",
     "text": [
      "/opt/conda/lib/python3.10/site-packages/xgboost/core.py:160: UserWarning: [16:58:11] WARNING: /workspace/src/common/error_msg.cc:27: The tree method `gpu_hist` is deprecated since 2.0.0. To use GPU training, set the `device` parameter to CUDA instead.\n",
      "\n",
      "    E.g. tree_method = \"hist\", device = \"cuda\"\n",
      "\n",
      "  warnings.warn(smsg, UserWarning)\n",
      "Training Model:  92%|█████████▏| 92/100 [00:51<00:04,  1.83round/s]"
     ]
    },
    {
     "name": "stdout",
     "output_type": "stream",
     "text": [
      "Round 92 - Time elapsed: 51.02s - Estimated time left: 4.44s\n"
     ]
    },
    {
     "name": "stderr",
     "output_type": "stream",
     "text": [
      "/opt/conda/lib/python3.10/site-packages/xgboost/core.py:160: UserWarning: [16:58:12] WARNING: /workspace/src/common/error_msg.cc:27: The tree method `gpu_hist` is deprecated since 2.0.0. To use GPU training, set the `device` parameter to CUDA instead.\n",
      "\n",
      "    E.g. tree_method = \"hist\", device = \"cuda\"\n",
      "\n",
      "  warnings.warn(smsg, UserWarning)\n",
      "Training Model:  93%|█████████▎| 93/100 [00:51<00:03,  1.83round/s]"
     ]
    },
    {
     "name": "stdout",
     "output_type": "stream",
     "text": [
      "Round 93 - Time elapsed: 51.57s - Estimated time left: 3.88s\n"
     ]
    },
    {
     "name": "stderr",
     "output_type": "stream",
     "text": [
      "Training Model:  94%|█████████▍| 94/100 [00:52<00:03,  1.83round/s]"
     ]
    },
    {
     "name": "stdout",
     "output_type": "stream",
     "text": [
      "Round 94 - Time elapsed: 52.12s - Estimated time left: 3.33s\n"
     ]
    },
    {
     "name": "stderr",
     "output_type": "stream",
     "text": [
      "/opt/conda/lib/python3.10/site-packages/xgboost/core.py:160: UserWarning: [16:58:13] WARNING: /workspace/src/common/error_msg.cc:27: The tree method `gpu_hist` is deprecated since 2.0.0. To use GPU training, set the `device` parameter to CUDA instead.\n",
      "\n",
      "    E.g. tree_method = \"hist\", device = \"cuda\"\n",
      "\n",
      "  warnings.warn(smsg, UserWarning)\n",
      "Training Model:  95%|█████████▌| 95/100 [00:52<00:02,  1.83round/s]"
     ]
    },
    {
     "name": "stdout",
     "output_type": "stream",
     "text": [
      "Round 95 - Time elapsed: 52.66s - Estimated time left: 2.77s\n"
     ]
    },
    {
     "name": "stderr",
     "output_type": "stream",
     "text": [
      "Training Model:  96%|█████████▌| 96/100 [00:53<00:02,  1.83round/s]"
     ]
    },
    {
     "name": "stdout",
     "output_type": "stream",
     "text": [
      "Round 96 - Time elapsed: 53.21s - Estimated time left: 2.22s\n"
     ]
    },
    {
     "name": "stderr",
     "output_type": "stream",
     "text": [
      "/opt/conda/lib/python3.10/site-packages/xgboost/core.py:160: UserWarning: [16:58:14] WARNING: /workspace/src/common/error_msg.cc:27: The tree method `gpu_hist` is deprecated since 2.0.0. To use GPU training, set the `device` parameter to CUDA instead.\n",
      "\n",
      "    E.g. tree_method = \"hist\", device = \"cuda\"\n",
      "\n",
      "  warnings.warn(smsg, UserWarning)\n",
      "Training Model:  97%|█████████▋| 97/100 [00:53<00:01,  1.77round/s]"
     ]
    },
    {
     "name": "stdout",
     "output_type": "stream",
     "text": [
      "Round 97 - Time elapsed: 53.81s - Estimated time left: 1.66s\n"
     ]
    },
    {
     "name": "stderr",
     "output_type": "stream",
     "text": [
      "Training Model:  98%|█████████▊| 98/100 [00:54<00:01,  1.67round/s]"
     ]
    },
    {
     "name": "stdout",
     "output_type": "stream",
     "text": [
      "Round 98 - Time elapsed: 54.49s - Estimated time left: 1.11s\n"
     ]
    },
    {
     "name": "stderr",
     "output_type": "stream",
     "text": [
      "/opt/conda/lib/python3.10/site-packages/xgboost/core.py:160: UserWarning: [16:58:15] WARNING: /workspace/src/common/error_msg.cc:27: The tree method `gpu_hist` is deprecated since 2.0.0. To use GPU training, set the `device` parameter to CUDA instead.\n",
      "\n",
      "    E.g. tree_method = \"hist\", device = \"cuda\"\n",
      "\n",
      "  warnings.warn(smsg, UserWarning)\n",
      "Training Model:  99%|█████████▉| 99/100 [00:55<00:00,  1.67round/s]"
     ]
    },
    {
     "name": "stdout",
     "output_type": "stream",
     "text": [
      "Round 99 - Time elapsed: 55.09s - Estimated time left: 0.56s\n"
     ]
    },
    {
     "name": "stderr",
     "output_type": "stream",
     "text": [
      "/opt/conda/lib/python3.10/site-packages/xgboost/core.py:160: UserWarning: [16:58:16] WARNING: /workspace/src/common/error_msg.cc:27: The tree method `gpu_hist` is deprecated since 2.0.0. To use GPU training, set the `device` parameter to CUDA instead.\n",
      "\n",
      "    E.g. tree_method = \"hist\", device = \"cuda\"\n",
      "\n",
      "  warnings.warn(smsg, UserWarning)\n",
      "Training Model: 100%|██████████| 100/100 [00:55<00:00,  1.80round/s]"
     ]
    },
    {
     "name": "stdout",
     "output_type": "stream",
     "text": [
      "Round 100 - Time elapsed: 55.64s - Estimated time left: 0.00s\n",
      "\n",
      "Model Performance Metrics:\n",
      "Mean Absolute Error: 7.80\n",
      "Mean Squared Error: 103.25\n",
      "Root Mean Squared Error: 10.16\n",
      "R-squared Score: 0.50\n",
      "\n",
      "Top 10 Most Important Features:\n",
      "                                         feature  importance\n",
      "20                             Avg_delivery_time    0.577487\n",
      "18                             dashers_per_order    0.081316\n",
      "19             orderPlaced_to_home_location_time    0.053756\n",
      "12  estimated_store_to_consumer_driving_duration    0.048899\n",
      "15                                   day_of_week    0.025624\n",
      "16                                         month    0.024606\n",
      "14                                   hour_of_day    0.019779\n",
      "5                             num_distinct_items    0.018859\n",
      "3                                    total_items    0.017044\n",
      "8                          total_onshift_dashers    0.016808\n"
     ]
    },
    {
     "name": "stderr",
     "output_type": "stream",
     "text": [
      "\n",
      "/opt/conda/lib/python3.10/site-packages/xgboost/core.py:160: UserWarning: [16:58:16] WARNING: /workspace/src/common/error_msg.cc:58: Falling back to prediction using DMatrix due to mismatched devices. This might lead to higher memory usage and slower performance. XGBoost is running on: cuda:0, while the input data is on: cpu.\n",
      "Potential solutions:\n",
      "- Use a data structure that matches the device ordinal in the booster.\n",
      "- Set the device for booster before call to inplace_predict.\n",
      "\n",
      "This warning will only be shown once.\n",
      "\n",
      "  warnings.warn(smsg, UserWarning)\n"
     ]
    }
   ],
   "source": [
    "import torch\n",
    "from torch.utils.data import Dataset, DataLoader\n",
    "import pandas as pd\n",
    "import numpy as np\n",
    "import xgboost as xgb\n",
    "from sklearn.preprocessing import StandardScaler\n",
    "from sklearn.model_selection import train_test_split\n",
    "from sklearn.metrics import mean_absolute_error, mean_squared_error, r2_score\n",
    "from tqdm import tqdm\n",
    "import time\n",
    "\n",
    "# Dataloader for our training dataset\n",
    "class DeliveryDataset(Dataset):\n",
    "    def __init__(self, features, target):\n",
    "        self.features = features\n",
    "        self.target = target\n",
    "    \n",
    "    def __len__(self):\n",
    "        return len(self.features)\n",
    "    \n",
    "    def __getitem__(self, idx):\n",
    "        return torch.tensor(self.features[idx], dtype=torch.float32), torch.tensor(self.target[idx], dtype=torch.float32)\n",
    "\n",
    "# Function is used to define the features which will be used for our model training\n",
    "def select_features(data):\n",
    "    features = [\n",
    "        'market_id',\n",
    "        'store_id',\n",
    "        'order_protocol',\n",
    "        'total_items',\n",
    "        'subtotal',\n",
    "        'num_distinct_items',\n",
    "        'min_item_price',\n",
    "        'max_item_price',\n",
    "        'total_onshift_dashers',\n",
    "        'total_busy_dashers',\n",
    "        'total_outstanding_orders',\n",
    "        'estimated_order_place_duration',\n",
    "        'estimated_store_to_consumer_driving_duration',\n",
    "        'price_range',\n",
    "        'hour_of_day',\n",
    "        'day_of_week',\n",
    "        'month',\n",
    "        'store_primary_category_encoded',\n",
    "        'dashers_per_order',\n",
    "        'orderPlaced_to_home_location_time',\n",
    "        'Avg_delivery_time',\n",
    "        'Delivery_Speed',\n",
    "        'Avg_price'\n",
    "    ]\n",
    "    \n",
    "    X = data[features]\n",
    "    y = data['delivery_duration_minutes']\n",
    "    \n",
    "    return X, y\n",
    "\n",
    "\n",
    "def train_and_evaluate_model(X, y):\n",
    "\n",
    "    # Data is split into training and testing parts\n",
    "    X_train, X_test, y_train, y_test = train_test_split(X, y, test_size=0.2, random_state=42)\n",
    "    \n",
    "    # Scaling the features\n",
    "    scaler = StandardScaler()\n",
    "    X_train_scaled = scaler.fit_transform(X_train)\n",
    "    X_test_scaled = scaler.transform(X_test)\n",
    "    \n",
    "   # Using the Dataloader for using small batches to run our code\n",
    "    train_dataset = DeliveryDataset(X_train_scaled, y_train)\n",
    "    test_dataset = DeliveryDataset(X_test_scaled, y_test)\n",
    "    \n",
    "    train_loader = DataLoader(train_dataset, batch_size=64, shuffle=True)\n",
    "    test_loader = DataLoader(test_dataset, batch_size=64, shuffle=False)\n",
    "\n",
    "    # Checking whether GPU is avaliable or not\n",
    "    device = torch.device('cuda' if torch.cuda.is_available() else 'cpu')\n",
    "    print(f'Using device: {device}')\n",
    "    \n",
    "    # XGBoost Model (GPU Acceleration)\n",
    "    model = xgb.XGBRegressor(\n",
    "        n_estimators=100,\n",
    "        learning_rate=0.1,\n",
    "        random_state=42,\n",
    "        tree_method='gpu_hist'\n",
    "    )\n",
    "    \n",
    "    # Model training \n",
    "    start_time = time.time()\n",
    "    for i in tqdm(range(100), desc=\"Training Model\", unit=\"round\"):\n",
    "        model.fit(X_train_scaled, y_train, verbose=False)\n",
    "        \n",
    "        elapsed_time = time.time() - start_time\n",
    "        estimated_total_time = elapsed_time * 100 / (i + 1)\n",
    "        remaining_time = estimated_total_time - elapsed_time\n",
    "        tqdm.write(f\"Round {i+1} - Time elapsed: {elapsed_time:.2f}s - Estimated time left: {remaining_time:.2f}s\")\n",
    "\n",
    "    \n",
    "    y_pred = model.predict(X_test_scaled)\n",
    "    \n",
    "    \n",
    "    mae = mean_absolute_error(y_test, y_pred)\n",
    "    mse = mean_squared_error(y_test, y_pred)\n",
    "    rmse = np.sqrt(mse)\n",
    "    r2 = r2_score(y_test, y_pred)\n",
    "    \n",
    "\n",
    "    feature_importance = pd.DataFrame({\n",
    "        'feature': X.columns,\n",
    "        'importance': model.feature_importances_\n",
    "    }).sort_values('importance', ascending=False)\n",
    "    \n",
    "    return {\n",
    "        'model': model,\n",
    "        'mae': mae,\n",
    "        'mse': mse,\n",
    "        'rmse': rmse,\n",
    "        'r2': r2,\n",
    "        'feature_importance': feature_importance\n",
    "    }\n",
    "\n",
    "\n",
    "\n",
    "def main(df):\n",
    "\n",
    "    # Selecting Features and Target label for our data\n",
    "    X, y = select_features(df)\n",
    "\n",
    "    # Using the function to train the model\n",
    "    results = train_and_evaluate_model(X, y)\n",
    "    \n",
    "    # Print Results\n",
    "    print(\"\\nModel Performance Metrics:\")\n",
    "    print(f\"Mean Absolute Error: {results['mae']:.2f}\")\n",
    "    print(f\"Mean Squared Error: {results['mse']:.2f}\")\n",
    "    print(f\"Root Mean Squared Error: {results['rmse']:.2f}\")\n",
    "    print(f\"R-squared Score: {results['r2']:.2f}\")\n",
    "    \n",
    "    # Display Feature Importance\n",
    "    print(\"\\nTop 10 Most Important Features:\")\n",
    "    print(results['feature_importance'].head(10))\n",
    "    \n",
    "    return results\n",
    "\n",
    "\n",
    "results = main(data_cleaned) \n"
   ]
  },
  {
   "cell_type": "code",
   "execution_count": 22,
   "id": "4c96ccd1",
   "metadata": {
    "execution": {
     "iopub.execute_input": "2024-12-11T16:58:16.542670Z",
     "iopub.status.busy": "2024-12-11T16:58:16.542144Z",
     "iopub.status.idle": "2024-12-11T16:58:16.550425Z",
     "shell.execute_reply": "2024-12-11T16:58:16.549473Z"
    },
    "papermill": {
     "duration": 0.044504,
     "end_time": "2024-12-11T16:58:16.552161",
     "exception": false,
     "start_time": "2024-12-11T16:58:16.507657",
     "status": "completed"
    },
    "tags": []
   },
   "outputs": [
    {
     "name": "stdout",
     "output_type": "stream",
     "text": [
      "\n",
      "Model Performance Metrics:\n",
      "Mean Absolute Error: 7.80\n",
      "Mean Squared Error: 103.25\n",
      "Root Mean Squared Error: 10.16\n",
      "R-squared Score: 0.50\n",
      "\n",
      "Top 10 Most Important Features:\n",
      "                                         feature  importance\n",
      "20                             Avg_delivery_time    0.577487\n",
      "18                             dashers_per_order    0.081316\n",
      "19             orderPlaced_to_home_location_time    0.053756\n",
      "12  estimated_store_to_consumer_driving_duration    0.048899\n",
      "15                                   day_of_week    0.025624\n",
      "16                                         month    0.024606\n",
      "14                                   hour_of_day    0.019779\n",
      "5                             num_distinct_items    0.018859\n",
      "3                                    total_items    0.017044\n",
      "8                          total_onshift_dashers    0.016808\n"
     ]
    }
   ],
   "source": [
    "print(\"\\nModel Performance Metrics:\")\n",
    "print(f\"Mean Absolute Error: {results['mae']:.2f}\")\n",
    "print(f\"Mean Squared Error: {results['mse']:.2f}\")\n",
    "print(f\"Root Mean Squared Error: {results['rmse']:.2f}\")\n",
    "print(f\"R-squared Score: {results['r2']:.2f}\")\n",
    "\n",
    "# Display Feature Importance\n",
    "print(\"\\nTop 10 Most Important Features:\")\n",
    "print(results['feature_importance'].head(10))"
   ]
  },
  {
   "cell_type": "markdown",
   "id": "15cc6e18",
   "metadata": {
    "papermill": {
     "duration": 0.031709,
     "end_time": "2024-12-11T16:58:16.614843",
     "exception": false,
     "start_time": "2024-12-11T16:58:16.583134",
     "status": "completed"
    },
    "tags": []
   },
   "source": [
    "---------------------------------------------------\n",
    "Model Inference\n",
    "--------------------------"
   ]
  },
  {
   "cell_type": "code",
   "execution_count": 23,
   "id": "dd0ae236",
   "metadata": {
    "execution": {
     "iopub.execute_input": "2024-12-11T16:58:16.678004Z",
     "iopub.status.busy": "2024-12-11T16:58:16.677554Z",
     "iopub.status.idle": "2024-12-11T16:58:16.741213Z",
     "shell.execute_reply": "2024-12-11T16:58:16.739884Z"
    },
    "papermill": {
     "duration": 0.09737,
     "end_time": "2024-12-11T16:58:16.742997",
     "exception": false,
     "start_time": "2024-12-11T16:58:16.645627",
     "status": "completed"
    },
    "tags": []
   },
   "outputs": [
    {
     "name": "stdout",
     "output_type": "stream",
     "text": [
      "Selected Row Index: 28436\n",
      "Order Datetime: 2024-12-11 16:58:16\n",
      "Actual Delivery Duration (minutes): 31.966666666666665\n",
      "Predicted Delivery Duration (minutes): 37.953495025634766\n",
      "Estimated Delivery Datetime: 2024-12-11 17:36:13\n"
     ]
    }
   ],
   "source": [
    "\n",
    "from sklearn.model_selection import train_test_split\n",
    "from sklearn.preprocessing import StandardScaler\n",
    "from datetime import datetime, timedelta\n",
    "\n",
    "\n",
    "# Function to handle the prediction code and return the results in minutes format in which the model has been trained for delivery time\n",
    "# Finally chaning it to date and time format\n",
    "\n",
    "def predict_delivery_duration(model, X_test, y_test):\n",
    "    \n",
    "    # Scaling the features\n",
    "    scaler = StandardScaler()\n",
    "    X_test_scaled = scaler.fit_transform(X_test)\n",
    "    \n",
    "    # Selecting a random row for inference each time from the test data\n",
    "    random_index = np.random.randint(0, len(X_test_scaled))\n",
    "    sample_feature = X_test_scaled[random_index].reshape(1, -1)\n",
    "    \n",
    "    # Predicting delivery duration\n",
    "    \n",
    "    predicted_duration = float(model.predict(sample_feature)[0])\n",
    "    \n",
    "    # order datetime\n",
    "    order_datetime = datetime.now()\n",
    "    \n",
    "    # Calculating the delivery datetime\n",
    "    delivery_datetime = order_datetime + timedelta(minutes=predicted_duration)\n",
    "    \n",
    "    return {\n",
    "        'selected_row_index': random_index,\n",
    "        'order_datetime': order_datetime,\n",
    "        'actual_delivery_duration': y_test.iloc[random_index],\n",
    "        'predicted_delivery_duration': predicted_duration,\n",
    "        'estimated_delivery_datetime': delivery_datetime\n",
    "    }\n",
    "\n",
    "# Main inference function\n",
    "def main():\n",
    "    # Select features and target from the original dataset\n",
    "    features = [\n",
    "        'market_id', 'store_id', 'order_protocol', 'total_items', 'subtotal', 'num_distinct_items', 'min_item_price', 'max_item_price',\n",
    "        'total_onshift_dashers', 'total_busy_dashers', 'total_outstanding_orders', 'estimated_order_place_duration', \n",
    "        'estimated_store_to_consumer_driving_duration','price_range', 'hour_of_day', 'day_of_week', 'month', \n",
    "        'store_primary_category_encoded', 'dashers_per_order', 'orderPlaced_to_home_location_time', 'Avg_delivery_time', \n",
    "        'Delivery_Speed', 'Avg_price'\n",
    "    ]\n",
    "    \n",
    "    X = data_cleaned[features]\n",
    "    y = data_cleaned['delivery_duration_minutes']\n",
    "    \n",
    "    # Data is split into training and testing parts where 20% is for test data\n",
    "    X_train, X_test, y_train, y_test = train_test_split(X, y, test_size=0.2, random_state=42)\n",
    "    \n",
    "    # Using our XGBoost trained model \n",
    "    model = results['model']\n",
    "    \n",
    "    inference_results = predict_delivery_duration(model, X_test, y_test)\n",
    "    \n",
    "    print(\"Selected Row Index:\", inference_results['selected_row_index'])\n",
    "    print(\"Order Datetime:\", inference_results['order_datetime'].strftime('%Y-%m-%d %H:%M:%S'))\n",
    "    print(\"Actual Delivery Duration (minutes):\", inference_results['actual_delivery_duration'])\n",
    "    print(\"Predicted Delivery Duration (minutes):\", inference_results['predicted_delivery_duration'])\n",
    "    print(\"Estimated Delivery Datetime:\", inference_results['estimated_delivery_datetime'].strftime('%Y-%m-%d %H:%M:%S'))\n",
    "\n",
    "main()"
   ]
  },
  {
   "cell_type": "markdown",
   "id": "e5c464f1",
   "metadata": {
    "papermill": {
     "duration": 0.031108,
     "end_time": "2024-12-11T16:58:16.806306",
     "exception": false,
     "start_time": "2024-12-11T16:58:16.775198",
     "status": "completed"
    },
    "tags": []
   },
   "source": [
    "-------------------------------------\n",
    "Model Selection\n",
    "------------------------"
   ]
  },
  {
   "cell_type": "code",
   "execution_count": 24,
   "id": "439ace4e",
   "metadata": {
    "execution": {
     "iopub.execute_input": "2024-12-11T16:58:16.870793Z",
     "iopub.status.busy": "2024-12-11T16:58:16.870433Z",
     "iopub.status.idle": "2024-12-11T17:02:11.682416Z",
     "shell.execute_reply": "2024-12-11T17:02:11.681388Z"
    },
    "papermill": {
     "duration": 234.878532,
     "end_time": "2024-12-11T17:02:11.716056",
     "exception": false,
     "start_time": "2024-12-11T16:58:16.837524",
     "status": "completed"
    },
    "tags": []
   },
   "outputs": [
    {
     "name": "stdout",
     "output_type": "stream",
     "text": [
      "Evaluating XGBoost Model...\n"
     ]
    },
    {
     "name": "stderr",
     "output_type": "stream",
     "text": [
      "/opt/conda/lib/python3.10/site-packages/xgboost/core.py:160: UserWarning: [16:58:20] WARNING: /workspace/src/common/error_msg.cc:27: The tree method `gpu_hist` is deprecated since 2.0.0. To use GPU training, set the `device` parameter to CUDA instead.\n",
      "\n",
      "    E.g. tree_method = \"hist\", device = \"cuda\"\n",
      "\n",
      "  warnings.warn(smsg, UserWarning)\n"
     ]
    },
    {
     "name": "stdout",
     "output_type": "stream",
     "text": [
      "Training Time for xgboost: 0.56s\n",
      "\n",
      "XGBoost Performance Metrics:\n",
      "Mean Absolute Error: 7.80\n",
      "Mean Squared Error: 103.25\n",
      "Root Mean Squared Error: 10.16\n",
      "R-squared Score: 0.50\n",
      "\n",
      "Evaluating LightGBM Model...\n",
      "[LightGBM] [Info] Auto-choosing row-wise multi-threading, the overhead of testing was 0.004986 seconds.\n",
      "You can set `force_row_wise=true` to remove the overhead.\n",
      "And if memory is not enough, you can set `force_col_wise=true`.\n",
      "[LightGBM] [Info] Total Bins 3562\n",
      "[LightGBM] [Info] Number of data points in the train set: 124844, number of used features: 23\n",
      "[LightGBM] [Info] Start training from score 44.961240\n",
      "Training Time for lightgbm: 1.08s\n",
      "\n",
      "LightGBM Performance Metrics:\n",
      "Mean Absolute Error: 7.80\n",
      "Mean Squared Error: 103.10\n",
      "Root Mean Squared Error: 10.15\n",
      "R-squared Score: 0.50\n",
      "\n",
      "Evaluating Linear Regression Model...\n",
      "Training Time for linear: 0.14s\n",
      "\n",
      "Linear Regression Performance Metrics:\n",
      "Mean Absolute Error: 8.10\n",
      "Mean Squared Error: 110.70\n",
      "Root Mean Squared Error: 10.52\n",
      "R-squared Score: 0.47\n",
      "\n",
      "Evaluating Random Forest Regressor Model...\n",
      "Training Time for random_forest: 187.62s\n",
      "\n",
      "Random Forest Performance Metrics:\n",
      "Mean Absolute Error: 8.01\n",
      "Mean Squared Error: 108.06\n",
      "Root Mean Squared Error: 10.40\n",
      "R-squared Score: 0.48\n",
      "\n",
      "Evaluating Gradient Boosting Regressor Model...\n",
      "Training Time for gradient_boosting: 40.55s\n",
      "\n",
      "Gradient Boosting Performance Metrics:\n",
      "Mean Absolute Error: 8.00\n",
      "Mean Squared Error: 107.66\n",
      "Root Mean Squared Error: 10.38\n",
      "R-squared Score: 0.48\n"
     ]
    }
   ],
   "source": [
    "import torch\n",
    "from torch.utils.data import Dataset, DataLoader\n",
    "import pandas as pd\n",
    "import numpy as np\n",
    "import lightgbm as lgb\n",
    "from sklearn.linear_model import LinearRegression\n",
    "from sklearn.ensemble import RandomForestRegressor, GradientBoostingRegressor\n",
    "from sklearn.preprocessing import StandardScaler\n",
    "from sklearn.model_selection import train_test_split\n",
    "from sklearn.metrics import mean_absolute_error, mean_squared_error, r2_score\n",
    "from tqdm import tqdm\n",
    "import time\n",
    "\n",
    "# Dataloader for our training dataset\n",
    "class DeliveryDataset(Dataset):\n",
    "    def __init__(self, features, target):\n",
    "        self.features = features\n",
    "        self.target = target\n",
    "    \n",
    "    def __len__(self):\n",
    "        return len(self.features)\n",
    "    \n",
    "    def __getitem__(self, idx):\n",
    "        return torch.tensor(self.features[idx], dtype=torch.float32), torch.tensor(self.target[idx], dtype=torch.float32)\n",
    "\n",
    "# Function to select features\n",
    "def select_features(data):\n",
    "    features = [\n",
    "        'market_id', 'store_id', 'order_protocol', 'total_items', 'subtotal',\n",
    "        'num_distinct_items', 'min_item_price', 'max_item_price', 'total_onshift_dashers',\n",
    "        'total_busy_dashers', 'total_outstanding_orders', 'estimated_order_place_duration',\n",
    "        'estimated_store_to_consumer_driving_duration', 'price_range', 'hour_of_day', \n",
    "        'day_of_week', 'month', 'store_primary_category_encoded', 'dashers_per_order', \n",
    "        'orderPlaced_to_home_location_time', 'Avg_delivery_time', 'Delivery_Speed', 'Avg_price'\n",
    "    ]\n",
    "    \n",
    "    X = data[features]\n",
    "    y = data['delivery_duration_minutes']\n",
    "    \n",
    "    return X, y\n",
    "\n",
    "# Function to train and evaluate different models\n",
    "def train_and_evaluate_model(X, y, model_type):\n",
    "    \n",
    "    X_train, X_test, y_train, y_test = train_test_split(X, y, test_size=0.2, random_state=42)\n",
    "    \n",
    "    # Feature Scaling\n",
    "    scaler = StandardScaler()\n",
    "    X_train_scaled = scaler.fit_transform(X_train)\n",
    "    X_test_scaled = scaler.transform(X_test)\n",
    "    \n",
    "    # Model selection\n",
    "    if model_type == \"xgboost\":\n",
    "        model = xgb.XGBRegressor(n_estimators=100, learning_rate=0.1, random_state=42, tree_method='gpu_hist')\n",
    "    elif model_type == \"lightgbm\":\n",
    "        model = lgb.LGBMRegressor(n_estimators=100, learning_rate=0.1, random_state=42)\n",
    "    elif model_type == \"linear\":\n",
    "        model = LinearRegression()\n",
    "    elif model_type == \"random_forest\":\n",
    "        model = RandomForestRegressor(n_estimators=100, random_state=42)\n",
    "    elif model_type == \"gradient_boosting\":\n",
    "        model = GradientBoostingRegressor(n_estimators=100, random_state=42)\n",
    "    \n",
    "    # Model training\n",
    "    start_time = time.time()\n",
    "    model.fit(X_train_scaled, y_train)\n",
    "    \n",
    "    elapsed_time = time.time() - start_time\n",
    "    tqdm.write(f\"Training Time for {model_type}: {elapsed_time:.2f}s\")\n",
    "    \n",
    "    y_pred = model.predict(X_test_scaled)\n",
    "    \n",
    "    # Evaluation metrics\n",
    "    mae = mean_absolute_error(y_test, y_pred)\n",
    "    mse = mean_squared_error(y_test, y_pred)\n",
    "    rmse = np.sqrt(mse)\n",
    "    r2 = r2_score(y_test, y_pred)\n",
    "    \n",
    "    return {\n",
    "        'model': model,\n",
    "        'mae': mae,\n",
    "        'mse': mse,\n",
    "        'rmse': rmse,\n",
    "        'r2': r2\n",
    "    }\n",
    "\n",
    "\n",
    "def main(df):\n",
    "    \n",
    "    # Selecting Features and Target label for our data\n",
    "    X, y = select_features(df)\n",
    "\n",
    "    # XGBoost Model\n",
    "    print(\"Evaluating XGBoost Model...\")\n",
    "    results_xgboost = train_and_evaluate_model(X, y, \"xgboost\")\n",
    "    print_results(\"XGBoost\", results_xgboost)\n",
    "\n",
    "    # LightGBM Model\n",
    "    print(\"\\nEvaluating LightGBM Model...\")\n",
    "    results_lgb = train_and_evaluate_model(X, y, \"lightgbm\")\n",
    "    print_results(\"LightGBM\", results_lgb)\n",
    "\n",
    "    # Linear Regression Model\n",
    "    print(\"\\nEvaluating Linear Regression Model...\")\n",
    "    results_lr = train_and_evaluate_model(X, y, \"linear\")\n",
    "    print_results(\"Linear Regression\", results_lr)\n",
    "\n",
    "    # Random Forest Regressor Model\n",
    "    print(\"\\nEvaluating Random Forest Regressor Model...\")\n",
    "    results_rf = train_and_evaluate_model(X, y, \"random_forest\")\n",
    "    print_results(\"Random Forest\", results_rf)\n",
    "\n",
    "    # Gradient Boosting Regressor Model\n",
    "    print(\"\\nEvaluating Gradient Boosting Regressor Model...\")\n",
    "    results_gb = train_and_evaluate_model(X, y, \"gradient_boosting\")\n",
    "    print_results(\"Gradient Boosting\", results_gb)\n",
    "\n",
    "    return results_xgboost, results_lgb, results_lr, results_rf, results_gb\n",
    "\n",
    "\n",
    "def print_results(model_name, results):\n",
    "    print(f\"\\n{model_name} Performance Metrics:\")\n",
    "    print(f\"Mean Absolute Error: {results['mae']:.2f}\")\n",
    "    print(f\"Mean Squared Error: {results['mse']:.2f}\")\n",
    "    print(f\"Root Mean Squared Error: {results['rmse']:.2f}\")\n",
    "    print(f\"R-squared Score: {results['r2']:.2f}\")\n",
    "\n",
    "\n",
    "results = main(data_cleaned)\n"
   ]
  },
  {
   "cell_type": "markdown",
   "id": "75071350",
   "metadata": {
    "papermill": {
     "duration": 0.032307,
     "end_time": "2024-12-11T17:02:11.779423",
     "exception": false,
     "start_time": "2024-12-11T17:02:11.747116",
     "status": "completed"
    },
    "tags": []
   },
   "source": [
    "-------------------------------------\n",
    "XGBoost and LightGBM have almost identical performance but XGBoost Performed much better among all the models in terms of training time and evaluation metrics\n",
    "----------------------"
   ]
  },
  {
   "cell_type": "markdown",
   "id": "e762d6a1",
   "metadata": {
    "papermill": {
     "duration": 0.030595,
     "end_time": "2024-12-11T17:02:11.841492",
     "exception": false,
     "start_time": "2024-12-11T17:02:11.810897",
     "status": "completed"
    },
    "tags": []
   },
   "source": [
    "--------------------------\n",
    "Model Inference through XGBoost is presented above the Model Selection code\n",
    "---------------------------"
   ]
  },
  {
   "cell_type": "code",
   "execution_count": null,
   "id": "b3a6bde9",
   "metadata": {
    "papermill": {
     "duration": 0.03107,
     "end_time": "2024-12-11T17:02:11.903692",
     "exception": false,
     "start_time": "2024-12-11T17:02:11.872622",
     "status": "completed"
    },
    "tags": []
   },
   "outputs": [],
   "source": []
  }
 ],
 "metadata": {
  "kaggle": {
   "accelerator": "gpu",
   "dataSources": [
    {
     "datasetId": 5234554,
     "sourceId": 8722910,
     "sourceType": "datasetVersion"
    }
   ],
   "dockerImageVersionId": 30805,
   "isGpuEnabled": true,
   "isInternetEnabled": false,
   "language": "python",
   "sourceType": "notebook"
  },
  "kernelspec": {
   "display_name": "Python 3",
   "language": "python",
   "name": "python3"
  },
  "language_info": {
   "codemirror_mode": {
    "name": "ipython",
    "version": 3
   },
   "file_extension": ".py",
   "mimetype": "text/x-python",
   "name": "python",
   "nbconvert_exporter": "python",
   "pygments_lexer": "ipython3",
   "version": "3.10.14"
  },
  "papermill": {
   "default_parameters": {},
   "duration": 303.561571,
   "end_time": "2024-12-11T17:02:13.657585",
   "environment_variables": {},
   "exception": null,
   "input_path": "__notebook__.ipynb",
   "output_path": "__notebook__.ipynb",
   "parameters": {},
   "start_time": "2024-12-11T16:57:10.096014",
   "version": "2.6.0"
  }
 },
 "nbformat": 4,
 "nbformat_minor": 5
}
